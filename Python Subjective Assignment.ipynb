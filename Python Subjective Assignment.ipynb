{
 "cells": [
  {
   "cell_type": "code",
   "execution_count": 35,
   "metadata": {},
   "outputs": [
    {
     "data": {
      "text/plain": [
       "'pros$ect'"
      ]
     },
     "execution_count": 35,
     "metadata": {},
     "output_type": "execute_result"
    }
   ],
   "source": [
    "\"\"\"Q1. Write a Python program to get the string from the given string where all the occurrence of its first char has been changed to '$,' except first char itself?\"\"\"\n",
    "\n",
    "def firstchar(m):\n",
    "    s = list(m)\n",
    "    k = s[0]\n",
    "    v = s[1:]\n",
    "    for i in v:\n",
    "        if i==k:\n",
    "            s[v.index(i)+1] = '$'\n",
    "            break\n",
    "    m = ''.join(s)\n",
    "    return m\n",
    "\n",
    "firstchar(\"prospect\")"
   ]
  },
  {
   "cell_type": "code",
   "execution_count": 45,
   "metadata": {},
   "outputs": [
    {
     "data": {
      "text/plain": [
       "'xyc abz'"
      ]
     },
     "execution_count": 45,
     "metadata": {},
     "output_type": "execute_result"
    }
   ],
   "source": [
    "\"\"\"Q2. Write a Python program to get the single string from the two given strings, and separated by the space and swap the first two characters of each string?   \"\"\"\n",
    "\n",
    "def swapstring(s1,s2):\n",
    "    news1,news2 = s2[:-1]+s1[-1] , s1[:-1]+s2[-1]\n",
    "    return news1+\" \"+news2\n",
    "swapstring(\"abc\",\"xyz\")"
   ]
  },
  {
   "cell_type": "code",
   "execution_count": 3,
   "metadata": {},
   "outputs": [
    {
     "data": {
      "text/plain": [
       "'testingly'"
      ]
     },
     "execution_count": 3,
     "metadata": {},
     "output_type": "execute_result"
    }
   ],
   "source": [
    "\"\"\"Q3. Write the Python program to add 'ing' at the end of the given string (length of the string should be at least 3). If given string already ends with 'ing,' then add 'ly' instead. If string length of the given string is less than 3, leave it unchanged\"\"\"\n",
    "\n",
    "def addsuffix(s):\n",
    "    if len(s)<3:\n",
    "        return s\n",
    "    else:\n",
    "        if(s.endswith(\"ing\")):\n",
    "            s = s+\"ly\"\n",
    "            return s\n",
    "        else:\n",
    "            s= s+\"ing\"\n",
    "            return s\n",
    "addsuffix(\"testing\")"
   ]
  },
  {
   "cell_type": "code",
   "execution_count": 5,
   "metadata": {},
   "outputs": [
    {
     "name": "stdout",
     "output_type": "stream",
     "text": [
      "The lyrics is good!\n",
      "The lyrics is poor!\n"
     ]
    }
   ],
   "source": [
    "\"\"\"Q4.  Write the Python program to find the first appearance of the substring 'not' and 'poor' from the given string, if 'not' follows the 'poor', replace the whole 'not'...' poor' substring with 'good'.Return the resulting string.\"\"\"\n",
    "def not_poor(str1): \n",
    "    snot = str1.find('not') \n",
    "    spoor = str1.find('poor')\n",
    "    if spoor > snot and snot>0 and spoor>0: \n",
    "        str1 = str1.replace(str1[snot:(spoor+4)], 'good') \n",
    "        return str1 \n",
    "    else: \n",
    "        return str1\n",
    "    \n",
    "print(not_poor('The lyrics is not that poor!'))\n",
    "print(not_poor('The lyrics is poor!'))"
   ]
  },
  {
   "cell_type": "code",
   "execution_count": 14,
   "metadata": {},
   "outputs": [
    {
     "name": "stdout",
     "output_type": "stream",
     "text": [
      "hrces\n"
     ]
    }
   ],
   "source": [
    "\"\"\"Q5. Write the Python program to remove the characters which have odd index values of a given string\"\"\"\n",
    "\n",
    "def rem_odd_char(str):\n",
    "    return \"\".join(str[index] for index in range(len(str)) if index%2 != 0 )\n",
    "\n",
    "print(rem_odd_char('characters'))"
   ]
  },
  {
   "cell_type": "code",
   "execution_count": 1,
   "metadata": {},
   "outputs": [
    {
     "data": {
      "text/plain": [
       "'onononon'"
      ]
     },
     "execution_count": 1,
     "metadata": {},
     "output_type": "execute_result"
    }
   ],
   "source": [
    "\"\"\"Q6. Write the Python function to get a string made of 4 copies of the last two characters of the specified string (length must be at least 2).\"\"\"\n",
    "def lasttwo(k):\n",
    "    if len(k)>2:\n",
    "        return k[-2:]*4\n",
    "    else:\n",
    "        print(\"Pass a string with min length 2\")\n",
    "lasttwo(\"Python\")"
   ]
  },
  {
   "cell_type": "code",
   "execution_count": 2,
   "metadata": {},
   "outputs": [
    {
     "data": {
      "text/plain": [
       "'Pyt'"
      ]
     },
     "execution_count": 2,
     "metadata": {},
     "output_type": "execute_result"
    }
   ],
   "source": [
    "\"\"\"Q7. Write the python function to get a string made of its first three characters of a specified string. If the length of the string is less than 3 then return the original string.\"\"\"\n",
    "def lastthree(k):\n",
    "    if len(k)==3:\n",
    "        return k\n",
    "    else:\n",
    "        if len(k)>3:\n",
    "            return k[:3]\n",
    "        else:\n",
    "            print(\"Pass a string with min lengh 3\")\n",
    "lastthree(\"Python\")"
   ]
  },
  {
   "cell_type": "code",
   "execution_count": 3,
   "metadata": {},
   "outputs": [
    {
     "data": {
      "text/plain": [
       "3.16"
      ]
     },
     "execution_count": 3,
     "metadata": {},
     "output_type": "execute_result"
    }
   ],
   "source": [
    "\"\"\"Q8. Write the python program to print the following floating numbers up to 2 decimal places?\"\"\"\n",
    "def two_decimals(number):\n",
    "    return float('{:.2f}'.format(number))\n",
    "\n",
    "two_decimals(3.15576)"
   ]
  },
  {
   "cell_type": "code",
   "execution_count": 5,
   "metadata": {},
   "outputs": [
    {
     "name": "stdout",
     "output_type": "stream",
     "text": [
      "23%\n"
     ]
    }
   ],
   "source": [
    "\"\"\"Q9. Write the Python program to format a number with a percentage?\"\"\"\n",
    "def format_percentage(number):\n",
    "    return (f'{number}%')\n",
    "print(format_percentage(23))"
   ]
  },
  {
   "cell_type": "code",
   "execution_count": 4,
   "metadata": {},
   "outputs": [
    {
     "name": "stdout",
     "output_type": "stream",
     "text": [
      "\n",
      "1\n",
      "\n"
     ]
    }
   ],
   "source": [
    "\"\"\"Q10. Write the Python program to count occurrences of a substring in a   String? \"\"\"\n",
    "str1 = 'The quick brown fox jumps over the lazy dog.' \n",
    "print() \n",
    "print(str1.count(\"fox\")) \n",
    "print()"
   ]
  },
  {
   "cell_type": "code",
   "execution_count": 13,
   "metadata": {},
   "outputs": [
    {
     "name": "stdout",
     "output_type": "stream",
     "text": [
      "o 4\n",
      "e 3\n",
      "t 2\n",
      "h 2\n",
      "u 2\n",
      "r 2\n"
     ]
    }
   ],
   "source": [
    "\"\"\"Q11. Write the Python program to count repeated characters in a string.\"\"\"\n",
    "import collections \n",
    "str1 = 'thequickbrownfoxjumpsoverthelazydog' \n",
    "d = collections.defaultdict(int)\n",
    "for c in str1: \n",
    "    d[c] += 1\n",
    "for c in sorted(d, key=d.get, reverse=True): \n",
    "    if d[c] > 1: \n",
    "        print('%s %d' % (c, d[c]))\n"
   ]
  },
  {
   "cell_type": "code",
   "execution_count": 16,
   "metadata": {},
   "outputs": [
    {
     "name": "stdout",
     "output_type": "stream",
     "text": [
      "The area of rectangle is 1256.66cm²\n",
      "The volume of cylinder is 1254.725cm³\n"
     ]
    }
   ],
   "source": [
    "\"\"\"Q12. Write the Python program to print the square and cube symbol in   the area of a rectangle and volume of a cylinder?\"\"\"\n",
    "def square(num):\n",
    "    print(f'The area of rectangle is {num}cm\\u00b2') \n",
    "def cube(num):\n",
    "    print(f'The volume of cylinder is {num}cm\\u00b3')\n",
    "square(1256.66)\n",
    "cube(1254.725)"
   ]
  },
  {
   "cell_type": "code",
   "execution_count": 17,
   "metadata": {},
   "outputs": [
    {
     "name": "stdout",
     "output_type": "stream",
     "text": [
      "True\n",
      "False\n"
     ]
    }
   ],
   "source": [
    "\"\"\"Q13. Write the Python program to check if a string contains all letters of   the alphabet?\"\"\"\n",
    "def is_contains_allalphabets(str):\n",
    "    contains_all_apphabets = True\n",
    "    for char in 'ABCDEFGHIJKLMNOPQRSTUVWXYZ':\n",
    "        if char not in str.upper():\n",
    "            contains_all_apphabets = False\n",
    "            break\n",
    "    return contains_all_apphabets\n",
    "\n",
    "print(is_contains_allalphabets('abcdefghijklmnopqrstuvwxyz'))\n",
    "print(is_contains_allalphabets('abcdefghijklmnopqrstuvwxz'))"
   ]
  },
  {
   "cell_type": "code",
   "execution_count": 9,
   "metadata": {},
   "outputs": [
    {
     "name": "stdout",
     "output_type": "stream",
     "text": [
      "('two', 2)\n"
     ]
    }
   ],
   "source": [
    "\"\"\"Q14.Write the Python program to find the second most repeated word in a given string?\"\"\"\n",
    "from collections import Counter\n",
    "data_set = \"one two two three three three\"\n",
    "split_it = data_set.split() \n",
    "Counter = Counter(split_it) \n",
    "most_occur = Counter.most_common()\n",
    "print(most_occur[1]) "
   ]
  },
  {
   "cell_type": "code",
   "execution_count": 40,
   "metadata": {},
   "outputs": [
    {
     "name": "stdout",
     "output_type": "stream",
     "text": [
      "Minimum window is OERIUS\n"
     ]
    }
   ],
   "source": [
    "\"\"\"Q15. Write the Python program to find the minimum window in the given  string, which will contains all the characters of another given strings? \"\"\"\n",
    "import collections\n",
    "def min_window(str1, str2):\n",
    "    result_char, missing_char = collections.Counter(str2), len(str2)\n",
    "    i = p = q = 0\n",
    "    for j, c in enumerate(str1, 1):\n",
    "        missing_char -= result_char[c] > 0\n",
    "        result_char[c] -= 1\n",
    "        if not missing_char:\n",
    "            while i < q and result_char[str1[i]] < 0:\n",
    "                result_char[str1[i]] += 1\n",
    "                i += 1\n",
    "            if not q or j - i <= q - p:\n",
    "                p, q = i, j\n",
    "    return str1[p:q]\n",
    "           \n",
    "str1 = \"PRWSOERIUSFK\"\n",
    "str2 = \"OSU\"\n",
    "print(\"Minimum window is\", min_window(str1,str2))\n",
    " "
   ]
  },
  {
   "cell_type": "code",
   "execution_count": 54,
   "metadata": {},
   "outputs": [
    {
     "name": "stdout",
     "output_type": "stream",
     "text": [
      "Minimum window is daewsqgtw\n"
     ]
    }
   ],
   "source": [
    "\"\"\"Q16. Write the Python program to find smallest window that contains all characters of the given string?\"\"\"\n",
    "import collections\n",
    "def min_window_self(str1):\n",
    "    str2= \"\".join(set([x for x in str1]))\n",
    "    result_char, missing_char = collections.Counter(str2), len(str2)\n",
    "    i = p = q = 0\n",
    "    for j, c in enumerate(str1, 1):\n",
    "        missing_char -= result_char[c] > 0\n",
    "        result_char[c] -= 1\n",
    "        if not missing_char:\n",
    "            while i < q and result_char[str1[i]] < 0:\n",
    "                result_char[str1[i]] += 1\n",
    "                i += 1\n",
    "            if not q or j - i <= q - p:\n",
    "                p, q = i, j\n",
    "    return str1[p:q]\n",
    "str1=\"asdaewsqgtwwsa\"           \n",
    "print(\"Minimum window is\", min_window_self(str1))"
   ]
  },
  {
   "cell_type": "code",
   "execution_count": 52,
   "metadata": {},
   "outputs": [
    {
     "name": "stdout",
     "output_type": "stream",
     "text": [
      "No of strings that can be formed: 3\n"
     ]
    }
   ],
   "source": [
    "\"\"\"Q17.  Write the Python program to count number of substrings from a given string of lowercase alphabets with exactly k distinct (given) characters? \"\"\"\n",
    "def count_k_dist(str1, k):\n",
    "    n = len(str1)\n",
    "    result = []\n",
    "    for i in range(0,n-k+1):\n",
    "        ls = []\n",
    "        for j in range(i,i+k):\n",
    "            if str1[j] in ls:\n",
    "                break\n",
    "            else:\n",
    "                ls.append(str1[j])\n",
    "        s = \"\".join(ls)\n",
    "        if len(s) == k:\n",
    "            result.append(s)\n",
    "    return len(result)\n",
    "r = count_k_dist(\"abcdefg\", 5)\n",
    "print(\"No of strings that can be formed:\",r)\n"
   ]
  },
  {
   "cell_type": "code",
   "execution_count": 56,
   "metadata": {},
   "outputs": [
    {
     "name": "stdout",
     "output_type": "stream",
     "text": [
      "10\n"
     ]
    }
   ],
   "source": [
    "\"\"\"Q18. Write the Python program to count number of non-empty substrings of the given string?\"\"\"\n",
    "def number_of_substrings(str): \n",
    "    str_len = len(str) \n",
    "    return int(str_len * (str_len + 1) / 2)\n",
    "\n",
    "print(number_of_substrings(\"abcd\"))"
   ]
  },
  {
   "cell_type": "code",
   "execution_count": 58,
   "metadata": {},
   "outputs": [
    {
     "name": "stdout",
     "output_type": "stream",
     "text": [
      "6\n"
     ]
    }
   ],
   "source": [
    "\"\"\"Q19. Write the Python program to count number of substrings with same first and last characters of the given string?\"\"\"\n",
    "def no_of_substring_with_equalEnds(str1): \n",
    "    result = 0; \n",
    "    n = len(str1); \n",
    "    for i in range(n): \n",
    "        for j in range(i, n): \n",
    "            if (str1[i] == str1[j]): \n",
    "                result = result + 1\n",
    "    return result \n",
    "str1 = \"abcda\"\n",
    "print(no_of_substring_with_equalEnds(str1))"
   ]
  },
  {
   "cell_type": "code",
   "execution_count": 59,
   "metadata": {},
   "outputs": [
    {
     "name": "stdout",
     "output_type": "stream",
     "text": [
      "2\n"
     ]
    }
   ],
   "source": [
    "\"\"\"Q20. Write the Python program to count the number of strings where the   string length is 2 or more, and  first and last character are same   from a given list of strings. \"\"\"\n",
    "def count_str(word_list):\n",
    "    ls = [word for word in word_list if len(word)>=2 and word[0] == word[-1]]\n",
    "    return len(ls)\n",
    "\n",
    "ex_list = ['abc', 'xyz', 'wxw', '1331']\n",
    "print(count_str(ex_list))"
   ]
  },
  {
   "cell_type": "code",
   "execution_count": 69,
   "metadata": {},
   "outputs": [
    {
     "name": "stdout",
     "output_type": "stream",
     "text": [
      "[(2, 1), (1, 2), (2, 3), (4, 4), (2, 5)]\n"
     ]
    }
   ],
   "source": [
    "\"\"\"Q21. Write the Python program to get a list, sorted in increasing order by   the last element in each tuple from the given list of non-empty tuples? \"\"\"\n",
    "def Sort_Tuple(tup):  \n",
    "    tup.sort(key = lambda x: x[1])  \n",
    "    return tup  \n",
    "\n",
    "tup = [(2, 5), (1, 2), (4, 4), (2, 3), (2, 1)]  \n",
    "print(Sort_Tuple(tup))  "
   ]
  },
  {
   "cell_type": "code",
   "execution_count": 74,
   "metadata": {},
   "outputs": [
    {
     "name": "stdout",
     "output_type": "stream",
     "text": [
      "[40, 10, 80, 50, 20, 60, 30]\n"
     ]
    }
   ],
   "source": [
    "\"\"\"Q22.Write the Python program to remove duplicates from a list?\"\"\"\n",
    "ex_list = [10,20,30,20,10,50,60,40,80,50,40]\n",
    "remove = list(set(ex_list))\n",
    "print(remove)"
   ]
  },
  {
   "cell_type": "code",
   "execution_count": 75,
   "metadata": {},
   "outputs": [
    {
     "data": {
      "text/plain": [
       "['Artificial Intelligence', 'Neural Networks']"
      ]
     },
     "execution_count": 75,
     "metadata": {},
     "output_type": "execute_result"
    }
   ],
   "source": [
    "\"\"\"Q23. Write the Python program to find the list of words that are longer than n from a given list of words? \"\"\"\n",
    "def filter_long_words(seq, n):\n",
    "    return [word for word in seq if len(word) > n ]\n",
    "words = ['Artificial Intelligence','Deep Learning', 'Neural Networks', 'Data Mining', 'Data Labeling']\n",
    "filter_long_words(words, 14)"
   ]
  },
  {
   "cell_type": "code",
   "execution_count": 76,
   "metadata": {},
   "outputs": [
    {
     "name": "stdout",
     "output_type": "stream",
     "text": [
      "['Green', 'White', 'Black']\n"
     ]
    }
   ],
   "source": [
    "\"\"\"Q24. Write the Python program to print a specified list after removing the  0th, 4th, and 5th elements? \"\"\"\n",
    "color = ['Red', 'Green', 'White', 'Black', 'Pink', 'Yellow'] \n",
    "color = [x for (i,x) in enumerate(color) if i not in (0,4,5)] \n",
    "print(color)"
   ]
  },
  {
   "cell_type": "code",
   "execution_count": 77,
   "metadata": {},
   "outputs": [
    {
     "name": "stdout",
     "output_type": "stream",
     "text": [
      "[(1, 2, 3), (1, 3, 2), (2, 1, 3), (2, 3, 1), (3, 1, 2), (3, 2, 1)]\n"
     ]
    }
   ],
   "source": [
    "\"\"\"Q25. Write the Python program to generate all permutations of a list in   Python?\"\"\"\n",
    "import itertools \n",
    "print(list(itertools.permutations([1,2,3])))"
   ]
  },
  {
   "cell_type": "code",
   "execution_count": 78,
   "metadata": {},
   "outputs": [
    {
     "name": "stdout",
     "output_type": "stream",
     "text": [
      "Original List:  [(1, 2), (3, 4), (1, 2), (5, 6), (7, 8), (1, 2), (3, 4), (3, 4), (7, 8), (9, 10)]\n",
      "Sorted Unique Data: [1, 2, 3, 4, 5, 6, 7, 8, 9, 10]\n"
     ]
    }
   ],
   "source": [
    "\"\"\"Q26. Write the Python program to convert a pair of values into a sorted unique array?\"\"\"\n",
    "L = [(1, 2), (3, 4), (1, 2), (5, 6), (7, 8), (1, 2), (3, 4), (3, 4), (7, 8), (9, 10)] \n",
    "print(\"Original List: \", L) \n",
    "print(\"Sorted Unique Data:\",sorted(set().union(*L)))"
   ]
  },
  {
   "cell_type": "code",
   "execution_count": 88,
   "metadata": {},
   "outputs": [
    {
     "name": "stdout",
     "output_type": "stream",
     "text": [
      "MMMDXLIX"
     ]
    }
   ],
   "source": [
    "\"\"\"Q27.Write the Python class to convert an integer to a roman numeral\"\"\"\n",
    "\n",
    "def printRoman(number): \n",
    "    num = [1, 4, 5, 9, 10, 40, 50, 90,  \n",
    "           100, 400, 500, 900, 1000] \n",
    "    sym = [\"I\", \"IV\", \"V\", \"IX\", \"X\", \"XL\",  \n",
    "           \"L\", \"XC\", \"C\", \"CD\", \"D\", \"CM\", \"M\"] \n",
    "    i = 12\n",
    "    while number: \n",
    "        div = number // num[i]\n",
    "        number %= num[i] \n",
    "        while div: \n",
    "            print(sym[i], end = \"\") \n",
    "            div -= 1\n",
    "        i -= 1\n",
    "        \n",
    "printRoman(3549) \n"
   ]
  },
  {
   "cell_type": "code",
   "execution_count": 8,
   "metadata": {},
   "outputs": [
    {
     "data": {
      "text/plain": [
       "3549"
      ]
     },
     "execution_count": 8,
     "metadata": {},
     "output_type": "execute_result"
    }
   ],
   "source": [
    "\"\"\"Q28. Write the Python class to convert a Roman numeral to an integer?\"\"\"\n",
    "def roman_to_int(roman, values={'M': 1000, 'D': 500, 'C': 100, 'L': 50, \n",
    "                                'X': 10, 'V': 5, 'I': 1}):\n",
    "    \"\"\"Convert from Roman numerals to an integer.\"\"\"\n",
    "    numbers = []\n",
    "    for char in roman:\n",
    "        numbers.append(values[char]) \n",
    "    total = 0\n",
    "    for num1, num2 in zip(numbers, numbers[1:]):\n",
    "        if num1 >= num2:\n",
    "            total += num1\n",
    "        else:\n",
    "            total -= num1\n",
    "    return total + num2\n",
    "\n",
    "roman_to_int(\"MMMDXLIX\")    "
   ]
  },
  {
   "cell_type": "code",
   "execution_count": 13,
   "metadata": {},
   "outputs": [
    {
     "name": "stdout",
     "output_type": "stream",
     "text": [
      "True\n",
      "False\n",
      "True\n"
     ]
    }
   ],
   "source": [
    "\"\"\"Q29. Write the Python class to find  the validity of the string of the parentheses, '(', ')', '{', '}', '[' and '] and the brackets must be closed  in the correct order, example - \"()\" and \"()[]{}\" are valid but \"[)\", \"({[)]\" and \"{{{\" are invalid.\"\"\"\n",
    "class py_solution: \n",
    "    def is_valid_parenthese(self, str1): \n",
    "        stack, pchar = [], {\"(\": \")\", \"{\": \"}\", \"[\": \"]\"} \n",
    "        for parenthese in str1: \n",
    "            if parenthese in pchar: \n",
    "                stack.append(parenthese) \n",
    "            elif len(stack) == 0 or pchar[stack.pop()] != parenthese: \n",
    "                return False \n",
    "        return len(stack) == 0\n",
    "print(py_solution().is_valid_parenthese(\"(){}[]\")) \n",
    "print(py_solution().is_valid_parenthese(\"()[{)}\")) \n",
    "print(py_solution().is_valid_parenthese(\"()\"))"
   ]
  },
  {
   "cell_type": "code",
   "execution_count": 18,
   "metadata": {},
   "outputs": [
    {
     "data": {
      "text/plain": [
       "[[], [6], [5], [5, 6], [4], [4, 6], [4, 5], [4, 5, 6]]"
      ]
     },
     "execution_count": 18,
     "metadata": {},
     "output_type": "execute_result"
    }
   ],
   "source": [
    "\"\"\"Q30. Write the Python class to get all possible unique subsets from a set of distinct integers?\"\"\"\n",
    "class py_solution: \n",
    "    def sub_sets(self, sset): \n",
    "        return self.subsetsRecur([], sorted(sset))\n",
    "    def subsetsRecur(self, current, sset): \n",
    "        if sset: \n",
    "            return self.subsetsRecur(current, sset[1:]) + self.subsetsRecur(current + [sset[0]], sset[1:]) \n",
    "        return [current]\n",
    "    \n",
    "py_solution().sub_sets([4,5,6])"
   ]
  },
  {
   "cell_type": "code",
   "execution_count": 6,
   "metadata": {},
   "outputs": [
    {
     "name": "stdout",
     "output_type": "stream",
     "text": [
      "index1=2, index2=3\n"
     ]
    }
   ],
   "source": [
    "\"\"\"Q31. Write the Python class to find a pair of elements (indices of the two   numbers) from a given array whose sum equals the specific target   number? \"\"\"\n",
    "class py_solution: \n",
    "    def twoSum(self, nums, target): \n",
    "        lookup = {} \n",
    "        for i, num in enumerate(nums): \n",
    "            if target - num in lookup: \n",
    "                return (lookup[target - num], i ) \n",
    "            lookup[num] = i\n",
    "print(\"index1=%d, index2=%d\" % py_solution().twoSum((10,20,10,40,50,60,70),50))"
   ]
  },
  {
   "cell_type": "code",
   "execution_count": 27,
   "metadata": {},
   "outputs": [
    {
     "name": "stdout",
     "output_type": "stream",
     "text": [
      "-10 2 8\n",
      "-7 -3 10\n"
     ]
    }
   ],
   "source": [
    "\"\"\"Q32. Write the Python class to find the three elements that sum to zero from the set of n real numbers? \"\"\"\n",
    "class py_solution2:\n",
    "    def findTriplets(arr, n): \n",
    "  \n",
    "        found = True\n",
    "        for i in range(0, n-2): \n",
    "      \n",
    "            for j in range(i+1, n-1): \n",
    "          \n",
    "                for k in range(j+1, n): \n",
    "              \n",
    "                    if (arr[i] + arr[j] + arr[k] == 0): \n",
    "                        print(arr[i], arr[j], arr[k]) \n",
    "                        found = True\n",
    "      \n",
    "              \n",
    "    # If no triplet with 0 sum  \n",
    "    # found in array \n",
    "        if (found == False): \n",
    "            print(\" not exist \") \n",
    "        \n",
    "# Driver code \n",
    "arr = [-25, -10, -7, -3, 2, 4, 8, 10] \n",
    "n = len(arr) \n",
    "py_solution2.findTriplets(arr, n) "
   ]
  },
  {
   "cell_type": "code",
   "execution_count": 3,
   "metadata": {},
   "outputs": [
    {
     "data": {
      "text/plain": [
       "27"
      ]
     },
     "execution_count": 3,
     "metadata": {},
     "output_type": "execute_result"
    }
   ],
   "source": [
    "\"\"\"Q33. Write the Python class to implement pow(x, n)? \"\"\"\n",
    "class Power:\n",
    "    def __init__(self):\n",
    "        pass\n",
    "    \n",
    "    def of(self, x, n):\n",
    "        return x**n\n",
    "      \n",
    "power = Power()\n",
    "power.of(3,3)"
   ]
  },
  {
   "cell_type": "code",
   "execution_count": 4,
   "metadata": {},
   "outputs": [
    {
     "name": "stdout",
     "output_type": "stream",
     "text": [
      "machinelearning\n",
      "MACHINELEARNING\n"
     ]
    }
   ],
   "source": [
    "\"\"\"Q34. Write the Python class which has two methods get_String and   print_String. get_String accept the string from the user and \"\"\"\n",
    "class IOString(): \n",
    "    def __init__(self): \n",
    "        self.str1 = \"\"\n",
    "    def get_String(self): \n",
    "        self.str1 = input()\n",
    "    def print_String(self): print(self.str1.upper())\n",
    "str1 = IOString() \n",
    "str1.get_String()  \n",
    "str1.print_String()"
   ]
  },
  {
   "cell_type": "code",
   "execution_count": 7,
   "metadata": {},
   "outputs": [
    {
     "name": "stdout",
     "output_type": "stream",
     "text": [
      "Area of Rectangle is 2000\n"
     ]
    }
   ],
   "source": [
    "\"\"\"Q35. Write the Python class named Rectangle constructed by a length   and width and the method which will compute the area of the rectangle? \"\"\"\n",
    "class Rectangle:\n",
    "    def __init__(self, length, width):\n",
    "        self.length = length\n",
    "        self.width = width\n",
    "\n",
    "    def area(self):\n",
    "        return self.length * self.width\n",
    "\n",
    "rectangle = Rectangle(40,50)\n",
    "print( 'Area of Rectangle is', rectangle.area())"
   ]
  },
  {
   "cell_type": "code",
   "execution_count": 8,
   "metadata": {},
   "outputs": [
    {
     "name": "stdout",
     "output_type": "stream",
     "text": [
      "Area = 430.10837999999995\n",
      "Perimeter = 73.52279999999999\n"
     ]
    }
   ],
   "source": [
    "\"\"\"Q36.  Write the Python class named Circle constructed by the radius   and two methods which will compute the area and perimeter of  the circle? \"\"\"\n",
    "class Circle:\n",
    "    def __init__(self, radius):\n",
    "        self.radius = radius\n",
    "\n",
    "    def area(self):\n",
    "        return 3.142 * (self.radius * self.radius)\n",
    "\n",
    "    def perimeter(self):\n",
    "        return 2 * 3.142 * self.radius\n",
    "    \n",
    "circle = Circle(11.7)\n",
    "print( 'Area =', circle.area())\n",
    "print( 'Perimeter =', circle.perimeter())"
   ]
  },
  {
   "cell_type": "code",
   "execution_count": 9,
   "metadata": {},
   "outputs": [
    {
     "name": "stdout",
     "output_type": "stream",
     "text": [
      "Circle\n"
     ]
    }
   ],
   "source": [
    "\"\"\"Q37. Write the Python program to get the class name of an instance in Python? \"\"\"\n",
    "class Circle:\n",
    "    def __init__(self, radius):\n",
    "        self.radius = radius\n",
    "\n",
    "    def area(self):\n",
    "        return 3.142 * (self.radius * self.radius)\n",
    "\n",
    "    def perimeter(self):\n",
    "        return 2 * 3.142 * self.radius\n",
    "\n",
    "circle = Circle(11.7)\n",
    "print(type(circle).__name__)"
   ]
  },
  {
   "cell_type": "code",
   "execution_count": 11,
   "metadata": {},
   "outputs": [
    {
     "name": "stdout",
     "output_type": "stream",
     "text": [
      "Counter({'VI': 3, 'V': 2, 'VII': 1})\n"
     ]
    }
   ],
   "source": [
    "\"\"\"Q38. Write the Python program to count the number of students of   individual class? \"\"\"\n",
    "from collections import Counter\n",
    "classes = (\n",
    "    ('V', 1),\n",
    "    ('VI', 1),\n",
    "    ('V', 2),\n",
    "    ('VI', 2),\n",
    "    ('VI', 3),\n",
    "    ('VII', 1),\n",
    ")\n",
    "students = Counter(class_name for class_name, no_students in classes)\n",
    "print(students)"
   ]
  },
  {
   "cell_type": "code",
   "execution_count": 12,
   "metadata": {},
   "outputs": [
    {
     "name": "stdout",
     "output_type": "stream",
     "text": [
      "Afghanistan 93\n",
      "Albania 355\n",
      "Algeria 213\n",
      "Andorra 376\n",
      "Angola 244\n",
      "\n",
      "In reverse order\n",
      "\n",
      "Angola 244\n",
      "Andorra 376\n",
      "Algeria 213\n",
      "Albania 355\n",
      "Afghanistan 93\n"
     ]
    }
   ],
   "source": [
    "\"\"\"Q39. Write the Python program to create an instance of an OrderedDict using the given dictionary and sort dictionary during the  creation and print members of the dictionary in reverse order? \"\"\"\n",
    "from collections import OrderedDict\n",
    "dict = OrderedDict({'Afghanistan': 93, 'Albania': 355, 'Algeria': 213, 'Andorra': 376, 'Angola': 244})\n",
    "\n",
    "for key, value in dict.items():\n",
    "    print(key, value)\n",
    "\n",
    "print('\\nIn reverse order\\n')\n",
    "for key in reversed(dict):\n",
    "    print(key, dict[key])"
   ]
  },
  {
   "cell_type": "code",
   "execution_count": 13,
   "metadata": {},
   "outputs": [
    {
     "name": "stdout",
     "output_type": "stream",
     "text": [
      "False\n"
     ]
    }
   ],
   "source": [
    "\"\"\"Q40. Write thePython program to compare two unordered lists (not sets)?\"\"\"\n",
    "from collections import Counter\n",
    "\n",
    "def comparelist(list1, list2):\n",
    "    return Counter(list1) == Counter(list2)\n",
    "\n",
    "print(comparelist([1,2,3], [1,3,4]))"
   ]
  },
  {
   "cell_type": "code",
   "execution_count": 15,
   "metadata": {},
   "outputs": [
    {
     "name": "stdout",
     "output_type": "stream",
     "text": [
      "Array buffer start address in memory and number of elements.\n",
      " (2430559769792, 2)\n"
     ]
    }
   ],
   "source": [
    "\"\"\"Q41. Write thePython program to get an array buffer information?\"\"\"\n",
    "from array import array\n",
    "arr = array(\"I\", (1,2))\n",
    "print('Array buffer start address in memory and number of elements.\\n',arr.buffer_info())"
   ]
  },
  {
   "cell_type": "code",
   "execution_count": 16,
   "metadata": {},
   "outputs": [
    {
     "name": "stdout",
     "output_type": "stream",
     "text": [
      "Array buffer start address in memory and number of elements.\n",
      "(2430559769696, 2)\n"
     ]
    }
   ],
   "source": [
    "\"\"\"Q42. Write thePython program to convert an array to an array of machine values and return thebytes representation?\"\"\"\n",
    "from array import array \n",
    "a = array(\"I\", (12,25)) \n",
    "print(\"Array buffer start address in memory and number of elements.\") \n",
    "print(a.buffer_info())"
   ]
  },
  {
   "cell_type": "code",
   "execution_count": 17,
   "metadata": {},
   "outputs": [
    {
     "name": "stdout",
     "output_type": "stream",
     "text": [
      "Original array:\n",
      "A1: array('i', [1, 2, 3, 4, 5, 6])\n",
      "Array of bytes: b'010000000200000003000000040000000500000006000000'\n"
     ]
    }
   ],
   "source": [
    "\"\"\"Q43. Write thePython program to read a string and interpreting the string as an array of machine values\"\"\"\n",
    "import array \n",
    "import binascii \n",
    "a = array.array('i', [1,2,3,4,5,6]) \n",
    "print(\"Original array:\") \n",
    "print('A1:', a) \n",
    "bytes_array = a.tobytes() \n",
    "print('Array of bytes:', binascii.hexlify(bytes_array))"
   ]
  },
  {
   "cell_type": "code",
   "execution_count": 21,
   "metadata": {},
   "outputs": [
    {
     "name": "stdout",
     "output_type": "stream",
     "text": [
      "Items in the heap-\n",
      "('VI', 1)\n",
      "('VII', 2)\n",
      "('VIII', 3)\n",
      "-----------------\n",
      "The smallest item in the heap:\n",
      "[('VI', 1)]\n",
      "-----------------\n",
      "\n",
      "Pop the smallest item in the heap:\n",
      "('VII', 2)\n",
      "('VIII', 3)\n"
     ]
    }
   ],
   "source": [
    "\"\"\"Q44. Write the Python program to push three items into the heap and return the smallest item from the heap. Also, return and popthe smallest item from the heap?\"\"\"\n",
    "import heapq\n",
    "heap = []\n",
    "heapq.heappush(heap, ('VI', 1))\n",
    "heapq.heappush(heap, ('VII', 2))\n",
    "heapq.heappush(heap, ('VIII' ,3))\n",
    "print('Items in the heap-')\n",
    "for item in heap:\n",
    "    print(item)\n",
    "print('-----------------')\n",
    "\n",
    "print('The smallest item in the heap:')\n",
    "print(heapq.nsmallest(1, heap)) \n",
    "\n",
    "print('-----------------\\n')\n",
    "print('Pop the smallest item in the heap:')\n",
    "heapq.heappop(heap)\n",
    "\n",
    "for item in heap:\n",
    "    print(item)"
   ]
  },
  {
   "cell_type": "code",
   "execution_count": 23,
   "metadata": {},
   "outputs": [
    {
     "name": "stdout",
     "output_type": "stream",
     "text": [
      "4\n",
      "2\n"
     ]
    }
   ],
   "source": [
    "\"\"\"Q45. Write the Python program to locate the left insertion point for a specified value in sorted order.\"\"\"\n",
    "import bisect\n",
    "def index(a, x):\n",
    "    i = bisect.bisect_left(a, x)\n",
    "    return i\n",
    "    \n",
    "a = [1,2,4,5]\n",
    "print(index(a, 6))\n",
    "print(index(a, 3))"
   ]
  },
  {
   "cell_type": "code",
   "execution_count": 25,
   "metadata": {},
   "outputs": [
    {
     "name": "stdout",
     "output_type": "stream",
     "text": [
      "0 1 2 3 "
     ]
    }
   ],
   "source": [
    "\"\"\"Q46. Write thePython program to create theFIFO queue?\"\"\"\n",
    "import queue\n",
    "q = queue.Queue()\n",
    "q.put(0)\n",
    "q.put(1)\n",
    "q.put(2)\n",
    "q.put(3)\n",
    "\n",
    "while not q.empty():\n",
    "    print(q.get(), end=\" \")"
   ]
  },
  {
   "cell_type": "code",
   "execution_count": 27,
   "metadata": {},
   "outputs": [
    {
     "name": "stdout",
     "output_type": "stream",
     "text": [
      "2.9289682539682538\n"
     ]
    }
   ],
   "source": [
    "\"\"\"Q47. Write the Python program to calculate the harmonic sum of n-1.Note: The harmonic sum is the sum of reciprocals of the positive Integers?\"\"\"\n",
    "n = 10\n",
    "sum = 1\n",
    "for i in range(2, n+1):\n",
    "    sum += 1/i\n",
    "print(sum)"
   ]
  },
  {
   "cell_type": "code",
   "execution_count": 29,
   "metadata": {},
   "outputs": [
    {
     "name": "stdout",
     "output_type": "stream",
     "text": [
      "Original array-\n",
      "[[6 6 6 6 6]\n",
      " [6 6 6 6 6]\n",
      " [6 6 6 6 6]\n",
      " [6 6 6 6 6]\n",
      " [6 6 6 6 6]]\n",
      "\n",
      "\n",
      "6 on the border and 0 inside in the array-\n",
      "[[6 6 6 6 6]\n",
      " [6 0 0 0 6]\n",
      " [6 0 0 0 6]\n",
      " [6 0 0 0 6]\n",
      " [6 6 6 6 6]]\n"
     ]
    }
   ],
   "source": [
    "\"\"\"Q48. Write the NumPy program to create a 2d array with 6 on the border and 0 inside?\"\"\"\n",
    "import numpy as np\n",
    "arr = np.zeros((5,5), dtype = int)\n",
    "arr[:] = 6\n",
    "print('Original array-')\n",
    "print(arr)\n",
    "arr[1:-1, 1:-1] = 0\n",
    "print('\\n\\n6 on the border and 0 inside in the array-')\n",
    "print(arr)"
   ]
  },
  {
   "cell_type": "code",
   "execution_count": 30,
   "metadata": {},
   "outputs": [
    {
     "data": {
      "text/plain": [
       "array([[3, 9, 3, 9, 3, 9, 3, 9],\n",
       "       [3, 9, 3, 9, 3, 9, 3, 9],\n",
       "       [3, 9, 3, 9, 3, 9, 3, 9],\n",
       "       [3, 9, 3, 9, 3, 9, 3, 9],\n",
       "       [3, 9, 3, 9, 3, 9, 3, 9],\n",
       "       [3, 9, 3, 9, 3, 9, 3, 9],\n",
       "       [3, 9, 3, 9, 3, 9, 3, 9],\n",
       "       [3, 9, 3, 9, 3, 9, 3, 9]])"
      ]
     },
     "execution_count": 30,
     "metadata": {},
     "output_type": "execute_result"
    }
   ],
   "source": [
    "\"\"\"Q49. Write the NumPy program to create a 8x8 matrix and fillit with the checkerboard pattern?\"\"\"\n",
    "import numpy as np\n",
    "arr = np.zeros((8,8), dtype=int)\n",
    "arr[:] = [3,9,3,9,3,9,3,9]\n",
    "arr"
   ]
  },
  {
   "cell_type": "code",
   "execution_count": 31,
   "metadata": {},
   "outputs": [
    {
     "name": "stdout",
     "output_type": "stream",
     "text": [
      "[[0. 0. 0. 0.]\n",
      " [0. 0. 0. 0.]\n",
      " [0. 0. 0. 0.]]\n",
      "[[6 6 6]\n",
      " [6 6 6]\n",
      " [6 6 6]]\n"
     ]
    }
   ],
   "source": [
    "\"\"\"Q50. Write theNumPy program to create an empty and a full array\"\"\"\n",
    "import numpy as np\n",
    "arr_embty = np.empty((3,4))\n",
    "print(arr_embty)\n",
    "arr_full = np.full((3,3), 6)\n",
    "print(arr_full)"
   ]
  },
  {
   "cell_type": "code",
   "execution_count": 32,
   "metadata": {},
   "outputs": [
    {
     "name": "stdout",
     "output_type": "stream",
     "text": [
      "Values in Fahrenheit degrees-\n",
      "[0, 12, 45.21, 34, 99.91]\n",
      "Values in Centigrade degrees-\n",
      "[-17.77777777777778, -11.11111111111111, 7.33888888888889, 1.1111111111111112, 37.727777777777774]\n"
     ]
    }
   ],
   "source": [
    "\"\"\"Q51. Write the NumPy program to convert the values of Centigrade degrees into the Fahrenheit degrees and the centigrade values are  stored in the NumPy array.\"\"\"\n",
    "Fahrenheit_degress = [0, 12, 45.21 ,34, 99.91]\n",
    "centigrade_degrees = list(map(lambda x: (x - 32) * 5/9,  Fahrenheit_degress))\n",
    "print('Values in Fahrenheit degrees-')\n",
    "print(Fahrenheit_degress)\n",
    "print('Values in Centigrade degrees-')\n",
    "print(centigrade_degrees)"
   ]
  },
  {
   "cell_type": "code",
   "execution_count": 34,
   "metadata": {},
   "outputs": [
    {
     "name": "stdout",
     "output_type": "stream",
     "text": [
      "Original array:x  [1.+0.j]\n",
      "Original array:y  [0.70710678+0.70710678j]\n",
      "Real part of the array:\n",
      "[1.]\n",
      "[0.70710678]\n",
      "Imaginary part of the array:\n",
      "[0.]\n",
      "[0.70710678]\n"
     ]
    }
   ],
   "source": [
    "\"\"\"Q52. Write the NumPy program to find the real and imaginary parts of an   array of complex numbers? \"\"\"\n",
    "\n",
    "import numpy as np \n",
    "x = np.sqrt([1+0j]) \n",
    "y = np.sqrt([0+1j]) \n",
    "print(\"Original array:x \",x) \n",
    "print(\"Original array:y \",y)\n",
    "\n",
    "print(\"Real part of the array:\") \n",
    "print(x.real) \n",
    "print(y.real)\n",
    "print(\"Imaginary part of the array:\") \n",
    "print(x.imag) \n",
    "print(y.imag)\n"
   ]
  },
  {
   "cell_type": "code",
   "execution_count": 3,
   "metadata": {},
   "outputs": [
    {
     "name": "stdout",
     "output_type": "stream",
     "text": [
      "Array1:  [ 0 10 20 40 60]\n",
      "Array2:  [ 0 40]\n",
      "Compare each element of array1 and array2\n",
      "[ True False False  True False]\n"
     ]
    }
   ],
   "source": [
    "\"\"\"Q53. Write the NumPy program to test whether each element of a 1-D   array is also present in the second array?\"\"\"\n",
    "import numpy as np\n",
    "arr1 = np.array([0, 10, 20, 40, 60])\n",
    "arr2 = np.array([0, 40])\n",
    "print('Array1: ', arr1)\n",
    "print('Array2: ', arr2)\n",
    "print('Compare each element of array1 and array2')\n",
    "print(np.in1d(arr1, arr2))"
   ]
  },
  {
   "cell_type": "code",
   "execution_count": 4,
   "metadata": {},
   "outputs": [
    {
     "name": "stdout",
     "output_type": "stream",
     "text": [
      "Array1: [ 0 10 20 40 60]\n",
      "Array2: [10 30 40]\n",
      "Common values between two arrays-\n",
      "[10 40]\n"
     ]
    }
   ],
   "source": [
    "\"\"\"Q54. Write the NumPy program to find common values between two arrays? \"\"\"\n",
    "import numpy as np\n",
    "arr1 = np.array([0, 10, 20, 40, 60])\n",
    "arr2 = np.array([10, 30, 40])\n",
    "print('Array1:', arr1)\n",
    "print('Array2:', arr2)\n",
    "print('Common values between two arrays-')\n",
    "print(np.intersect1d(arr1, arr2))"
   ]
  },
  {
   "cell_type": "code",
   "execution_count": 5,
   "metadata": {},
   "outputs": [
    {
     "name": "stdout",
     "output_type": "stream",
     "text": [
      "Original array-\n",
      "[10 10 20 20 30 30]\n",
      "Unique elements of the above array-\n",
      "[10 20 30]\n",
      "Original array-\n",
      "[[1 1]\n",
      " [2 3]]\n",
      "Unique elements of the above array-\n",
      "[1 2 3]\n"
     ]
    }
   ],
   "source": [
    "\"\"\"Q55. Write the NumPy program to get the unique elements of an array? \"\"\"\n",
    "import numpy as np\n",
    "\n",
    "arr = np.array([10, 10, 20, 20, 30, 30])\n",
    "print('Original array-')\n",
    "print(arr)\n",
    "print('Unique elements of the above array-')\n",
    "print(np.unique(arr))\n",
    "\n",
    "arr = np.array( [[1,1], [2,3]]  )\n",
    "print('Original array-')\n",
    "print(arr)\n",
    "print('Unique elements of the above array-')\n",
    "print(np.unique(arr))"
   ]
  },
  {
   "cell_type": "code",
   "execution_count": 6,
   "metadata": {},
   "outputs": [
    {
     "name": "stdout",
     "output_type": "stream",
     "text": [
      "Array1- [ 0 10 20 40 60 80]\n",
      "Array2- [10 30 40 50 79]\n",
      "Unique values that are in only one (not both) of the input arrays-\n",
      "[ 0 20 30 50 60 79 80]\n"
     ]
    }
   ],
   "source": [
    "\"\"\"Q56. Write the NumPy program to find the set exclusive-or of two arrays.   Set exclusive-or will return the sorted, unique values that are in   only one (not both) of the input arrays? \"\"\"\n",
    "import numpy as np\n",
    "arr1 = np.array([0, 10, 20, 40, 60, 80])\n",
    "arr2 = np.array([10, 30, 40, 50, 79])\n",
    "print('Array1-', arr1)\n",
    "print('Array2-', arr2)\n",
    "print('Unique values that are in only one (not both) of the input arrays-')\n",
    "print(np.setxor1d(arr1, arr2))"
   ]
  },
  {
   "cell_type": "code",
   "execution_count": 7,
   "metadata": {},
   "outputs": [
    {
     "name": "stdout",
     "output_type": "stream",
     "text": [
      "False\n",
      "True\n",
      "False\n",
      "True\n"
     ]
    }
   ],
   "source": [
    "\"\"\"Q57. Write the NumPy program to test if all elements in an array evaluate to True ? \"\"\"\n",
    "import numpy as np \n",
    "print(np.all([[True,False],[True,True]])) \n",
    "print(np.all([[True,True],[True,True]])) \n",
    "print(np.all([10, 20, 0, -50])) \n",
    "print(np.all([10, 20, -50]))"
   ]
  },
  {
   "cell_type": "code",
   "execution_count": 9,
   "metadata": {},
   "outputs": [
    {
     "name": "stdout",
     "output_type": "stream",
     "text": [
      "False\n",
      "True\n",
      "True\n",
      "True\n"
     ]
    }
   ],
   "source": [
    "\"\"\"Q58 Write the NumPy program to test whether any array element along   the given axis evaluates to True? \"\"\"\n",
    "import numpy as np\n",
    "print(np.any([[False,False],[False,False]])) \n",
    "print(np.any([[True,True],[True,True]])) \n",
    "print(np.any([10, 20, 0, -50])) \n",
    "print(np.any([10, 20, -50]))"
   ]
  },
  {
   "cell_type": "code",
   "execution_count": 10,
   "metadata": {},
   "outputs": [
    {
     "name": "stdout",
     "output_type": "stream",
     "text": [
      "Original array\n",
      "[1 2 3 4]\n",
      "Repeating 2 times\n",
      "[1 2 3 4 1 2 3 4]\n",
      "Repeating 3 times\n",
      "[1 2 3 4 1 2 3 4 1 2 3 4]\n"
     ]
    }
   ],
   "source": [
    "\"\"\"Q59. Write the NumPy program to construct an array by repeating? \"\"\"\n",
    "arr = np.array([1, 2, 3, 4])\n",
    "print('Original array')\n",
    "print(arr)\n",
    "print('Repeating 2 times')\n",
    "print(np.tile(arr, 2))\n",
    "print('Repeating 3 times')\n",
    "print(np.tile(arr, 3))"
   ]
  },
  {
   "cell_type": "code",
   "execution_count": 11,
   "metadata": {},
   "outputs": [
    {
     "name": "stdout",
     "output_type": "stream",
     "text": [
      "Original array- [1 2 3 4 5 6]\n",
      "Maximum Values- 5\n",
      "Minimum Values- 0\n"
     ]
    }
   ],
   "source": [
    "\"\"\"Q60. Write the NumPy program to find the indices of the maximum and   minimum values with the given axis of an array? \"\"\"\n",
    "import numpy as np\n",
    "arr = np.array([1, 2, 3, 4, 5, 6])\n",
    "print('Original array-', arr)\n",
    "print('Maximum Values-', np.argmax(arr))\n",
    "print('Minimum Values-', np.argmin(arr))"
   ]
  },
  {
   "cell_type": "code",
   "execution_count": 12,
   "metadata": {},
   "outputs": [
    {
     "name": "stdout",
     "output_type": "stream",
     "text": [
      "Array a- [1 2]\n",
      "Array b- [4 5]\n",
      "a>b\n",
      "[False False]\n",
      "a>=b\n",
      "[False False]\n",
      "a<b\n",
      "[ True  True]\n",
      "a<=b\n",
      "[ True  True]\n"
     ]
    }
   ],
   "source": [
    "\"\"\"Q61.  Write the NumPy program compare two arrays using numpy? \"\"\"\n",
    "a = np.array([1,2])\n",
    "b = np.array([4,5])\n",
    "print('Array a-', a)\n",
    "print('Array b-', b)\n",
    "print('a>b')\n",
    "print(np.greater(a, b))\n",
    "print('a>=b')\n",
    "print(np.greater_equal(a,b))\n",
    "print('a<b')\n",
    "print(np.less(a,b))\n",
    "print('a<=b')\n",
    "print(np.less_equal(a,b))"
   ]
  },
  {
   "cell_type": "code",
   "execution_count": 13,
   "metadata": {},
   "outputs": [
    {
     "name": "stdout",
     "output_type": "stream",
     "text": [
      "Original array: \n",
      "[[4 6]\n",
      " [2 1]]\n",
      "Sort along the first axis:\n",
      "[[2 1]\n",
      " [4 6]]\n",
      "Sort along the last axis:\n",
      "[[1 2]\n",
      " [4 6]]\n"
     ]
    }
   ],
   "source": [
    "\"\"\"Q62. Write the NumPy program to sort an along the first, last axis of an   array? \"\"\"\n",
    "import numpy as np\n",
    "a = np.array([[4,6],[2,1]])\n",
    "print('Original array: ')\n",
    "print(a)\n",
    "print('Sort along the first axis:')\n",
    "x = np.sort(a, axis=0)\n",
    "print(x)\n",
    "print('Sort along the last axis:')\n",
    "y = np.sort(x, axis=1)\n",
    "print(y)\n"
   ]
  },
  {
   "cell_type": "code",
   "execution_count": 14,
   "metadata": {},
   "outputs": [
    {
     "name": "stdout",
     "output_type": "stream",
     "text": [
      "[1 3 2 4 0]\n"
     ]
    }
   ],
   "source": [
    "\"\"\"Q63. Write the NumPy program to sort pairs of first name and last name return their indices(first by last name, then by first name).\"\"\"\n",
    "import numpy as np\n",
    "first_names =    ('Margery', 'Betsey', 'Shelley', 'Lanell', 'Genesis')\n",
    "last_names = ('Woolum', 'Battle', 'Plotner', 'Brien', 'Stahl')\n",
    "x = np.lexsort((first_names, last_names))\n",
    "print(x)"
   ]
  },
  {
   "cell_type": "code",
   "execution_count": 15,
   "metadata": {},
   "outputs": [
    {
     "name": "stdout",
     "output_type": "stream",
     "text": [
      "Original array-\n",
      "[[ 0 10 20]\n",
      " [20 30 40]]\n",
      "Values bigger than 10= [20 20 30 40]\n",
      "Their indices are  (array([0, 1, 1, 1], dtype=int64), array([2, 0, 1, 2], dtype=int64))\n"
     ]
    }
   ],
   "source": [
    "\"\"\"Q64. Write the NumPy program to get the values and indices of the elements that are bigger than 10 in the given array?\"\"\"\n",
    "import numpy as np\n",
    "x = np.array([[0,10,20],[20,30,40]])\n",
    "print('Original array-')\n",
    "print(x)\n",
    "print('Values bigger than 10=', x[x>10])\n",
    "print('Their indices are ', np.nonzero(x>10))"
   ]
  },
  {
   "cell_type": "code",
   "execution_count": 16,
   "metadata": {},
   "outputs": [
    {
     "name": "stdout",
     "output_type": "stream",
     "text": [
      "128 bytes\n"
     ]
    }
   ],
   "source": [
    "\"\"\"Q65. Write the NumPy program to find the memory size of a NumPy array?\"\"\"\n",
    "import numpy as np\n",
    "x = np.ones((4,4))\n",
    "print(\"%d bytes\" % (x.size * x.itemsize) )"
   ]
  },
  {
   "cell_type": "code",
   "execution_count": 17,
   "metadata": {},
   "outputs": [
    {
     "name": "stdout",
     "output_type": "stream",
     "text": [
      "Create an array of zeros\n",
      "Default type is float\n",
      "[[0. 0.]]\n",
      "Type changes to int\n",
      "[[0 0]]\n",
      "Create an array of ones\n",
      "Default type is float\n",
      "[[1. 1.]]\n",
      "Type changes to int\n",
      "[[1 1]]\n"
     ]
    }
   ],
   "source": [
    "\"\"\"Q66. Write the NumPy program to create an array of ones and an array of zeros?\"\"\"\n",
    "import numpy as np\n",
    "print('Create an array of zeros')\n",
    "x = np.zeros((1,2))\n",
    "print('Default type is float')\n",
    "print(x)\n",
    "print('Type changes to int')\n",
    "x = x.astype(np.int)\n",
    "print(x)\n",
    "\n",
    "print('Create an array of ones')\n",
    "y = np.ones((1,2))\n",
    "print('Default type is float')\n",
    "print(y)\n",
    "print('Type changes to int')\n",
    "y = y.astype(np.int)\n",
    "print(y)"
   ]
  },
  {
   "cell_type": "code",
   "execution_count": 18,
   "metadata": {},
   "outputs": [
    {
     "name": "stdout",
     "output_type": "stream",
     "text": [
      "6 rows and 0 columns\n",
      "(6,)\n",
      "(3, 3) -> 3 rows and 3 columns\n",
      "[[1 2 3]\n",
      " [4 5 6]\n",
      " [7 8 9]]\n",
      "Change array shape to (3, 3) -> 3 rows and 3 columns\n",
      "[[1 2 3]\n",
      " [4 5 6]\n",
      " [7 8 9]]\n"
     ]
    }
   ],
   "source": [
    "\"\"\"Q67. Write the NumPy program to change the dimension of an array?\"\"\"\n",
    "import numpy as np\n",
    "arr1 = np.array([1,2,3,4,5,6])\n",
    "print('6 rows and 0 columns')\n",
    "print(arr.shape)\n",
    "\n",
    "arr2 = np.array([[1,2,3],[4,5,6],[7,8,9]])\n",
    "print('(3, 3) -> 3 rows and 3 columns')\n",
    "print(arr2)\n",
    "\n",
    "arr3 = np.array([1,2,3,4,5,6,7,8,9])\n",
    "print('Change array shape to (3, 3) -> 3 rows and 3 columns')\n",
    "arr3 = arr3.reshape(3,3)\n",
    "print(arr3)"
   ]
  },
  {
   "cell_type": "code",
   "execution_count": 19,
   "metadata": {},
   "outputs": [
    {
     "name": "stdout",
     "output_type": "stream",
     "text": [
      "Reshape 3x2:\n",
      "[[1 2]\n",
      " [3 4]\n",
      " [5 6]]\n",
      "Reshape 2x3:\n",
      "[[1 2 3]\n",
      " [4 5 6]]\n"
     ]
    }
   ],
   "source": [
    "\"\"\"Q68. Write the NumPy program to create a new shape to an array without changing its data ?\"\"\"\n",
    "import numpy as np\n",
    "x = np.array([1, 2, 3, 4, 5, 6]) \n",
    "y = np.reshape(x,(3,2))\n",
    "print(\"Reshape 3x2:\") \n",
    "print(y) \n",
    "z = np.reshape(x,(2,3))\n",
    "print(\"Reshape 2x3:\") \n",
    "print(z)"
   ]
  },
  {
   "cell_type": "code",
   "execution_count": 20,
   "metadata": {},
   "outputs": [
    {
     "name": "stdout",
     "output_type": "stream",
     "text": [
      "[[2 2 2 2 2]\n",
      " [2 2 2 2 2]\n",
      " [2 2 2 2 2]]\n",
      "[[2 2 2 2 2]\n",
      " [2 2 2 2 2]\n",
      " [2 2 2 2 2]]\n"
     ]
    }
   ],
   "source": [
    "\"\"\"Q69. Write the NumPy program to create a new array of 3*5, filled with 2?\"\"\"\n",
    "import numpy as np\n",
    "x = np.full((3,5), 2, dtype=np.int)\n",
    "print(x)\n",
    "\n",
    "y = np.ones([3,5], dtype= np.int) * 2\n",
    "print(y)"
   ]
  },
  {
   "cell_type": "code",
   "execution_count": 21,
   "metadata": {},
   "outputs": [
    {
     "name": "stdout",
     "output_type": "stream",
     "text": [
      "[[1. 0. 0.]\n",
      " [0. 1. 0.]\n",
      " [0. 0. 1.]]\n"
     ]
    }
   ],
   "source": [
    "\"\"\"Q70. Write the NumPy program to create a 3-D array with ones on a diagonal and zeros elsewhere?\"\"\"\n",
    "import numpy as np\n",
    "x = np.eye(3)\n",
    "print(x)"
   ]
  },
  {
   "cell_type": "code",
   "execution_count": 23,
   "metadata": {},
   "outputs": [
    {
     "name": "stdout",
     "output_type": "stream",
     "text": [
      "Original array- [ 1  2  3  4  5  6  7  8  9 10 11 12 13 14]\n",
      "After splitting-\n",
      "[array([1, 2]), array([3, 4, 5, 6]), array([ 7,  8,  9, 10, 11, 12, 13, 14])]\n"
     ]
    }
   ],
   "source": [
    "\"\"\"Q71. Write the NumPy program to split an array of 14 elements into the 3 arrays and each of which has 2, 4,and 8 elements in original order?\"\"\"\n",
    "import numpy as np\n",
    "x = np.arange(1,15)\n",
    "print('Original array-', x)\n",
    "print('After splitting-')\n",
    "print( np.split(x, [2,6]))"
   ]
  },
  {
   "cell_type": "code",
   "execution_count": 24,
   "metadata": {},
   "outputs": [
    {
     "name": "stdout",
     "output_type": "stream",
     "text": [
      "Original array: [[ 0  1  2  3]\n",
      " [ 4  5  6  7]\n",
      " [ 8  9 10 11]\n",
      " [12 13 14 15]]\n",
      "After splitting horizontally:\n",
      "[array([[ 0,  1],\n",
      "       [ 4,  5],\n",
      "       [ 8,  9],\n",
      "       [12, 13]]), array([[ 2,  3],\n",
      "       [ 6,  7],\n",
      "       [10, 11],\n",
      "       [14, 15]]), array([], shape=(4, 0), dtype=int32)]\n"
     ]
    }
   ],
   "source": [
    "\"\"\"Q72. Write the NumPy program to split of an array of shape 4x4 it into two arrays along the second axis?\"\"\"\n",
    "import numpy as np\n",
    "x = np.arange(16).reshape((4, 4)) \n",
    "print(\"Original array:\",x)\n",
    "print(\"After splitting horizontally:\") \n",
    "print(np.hsplit(x, [2, 6]))"
   ]
  },
  {
   "cell_type": "code",
   "execution_count": 25,
   "metadata": {},
   "outputs": [
    {
     "name": "stdout",
     "output_type": "stream",
     "text": [
      "Original array-\n",
      "[[0. 0. 0. 0. 0.]\n",
      " [0. 0. 0. 0. 0.]\n",
      " [0. 0. 0. 0. 0.]\n",
      " [0. 0. 0. 0. 0.]\n",
      " [0. 0. 0. 0. 0.]]\n",
      "Row values ranging from 0 to 4.\n",
      "[[0. 1. 2. 3. 4.]\n",
      " [0. 1. 2. 3. 4.]\n",
      " [0. 1. 2. 3. 4.]\n",
      " [0. 1. 2. 3. 4.]\n",
      " [0. 1. 2. 3. 4.]]\n"
     ]
    }
   ],
   "source": [
    "\"\"\"Q73. Write the NumPy program to create a 5x5 matrix with row values ranging from 0 to 4?\"\"\"\n",
    "import numpy as np\n",
    "x = np.zeros((5,5))\n",
    "print('Original array-')\n",
    "print(x)\n",
    "\n",
    "print('Row values ranging from 0 to 4.')\n",
    "x += np.arange(5)\n",
    "print(x)"
   ]
  },
  {
   "cell_type": "code",
   "execution_count": 27,
   "metadata": {},
   "outputs": [
    {
     "name": "stdout",
     "output_type": "stream",
     "text": [
      "[(1, 2., b'Albert Einstein') (2, 2., b'Edmond Halley')\n",
      " (3, 3., b'Gertrude B. Elion')]\n"
     ]
    }
   ],
   "source": [
    "\"\"\"Q74. Write the NumPy program to create an array of zeros and three column types (integer, float, character)?\"\"\"\n",
    "import numpy as np\n",
    "x = np.zeros(3, dtype = ('i4, f4, a40'))\n",
    "x[:] = [(1, 2., \"Albert Einstein\"), (2, 2., \"Edmond Halley\"), (3, 3., \"Gertrude B. Elion\")]\n",
    "print(x)"
   ]
  },
  {
   "cell_type": "code",
   "execution_count": 29,
   "metadata": {},
   "outputs": [
    {
     "name": "stdout",
     "output_type": "stream",
     "text": [
      "Original array-\n",
      "[-1 -4  0  2  3  4  5 -6]\n",
      "Replace the negative values of the said array with 0:\n",
      "[0 0 0 2 3 4 5 0]\n"
     ]
    }
   ],
   "source": [
    "\"\"\"Q75. Write the NumPy program to remove the negative values in the numpy array with 0?\"\"\"\n",
    "import numpy as np\n",
    "x = np.array([-1, -4, 0, 2, 3, 4, 5, -6])\n",
    "print('Original array-')\n",
    "print(x)\n",
    "print(\"Replace the negative values of the said array with 0:\")\n",
    "x[ x < 0] = 0\n",
    "print(x)"
   ]
  },
  {
   "cell_type": "code",
   "execution_count": 31,
   "metadata": {},
   "outputs": [
    {
     "data": {
      "text/plain": [
       "(array([0., 2., 1., 0.]), array([0, 1, 2, 3, 5]), <a list of 4 Patch objects>)"
      ]
     },
     "execution_count": 31,
     "metadata": {},
     "output_type": "execute_result"
    },
    {
     "data": {
      "image/png": "[encoded data removed]",
      "text/plain": [
       "<Figure size 432x288 with 1 Axes>"
      ]
     },
     "metadata": {
      "needs_background": "light"
     },
     "output_type": "display_data"
    }
   ],
   "source": [
    "\"\"\"Q76. Write the NumPy program to compute the histogram of a set of data?\"\"\"\n",
    "import numpy as np\n",
    "import matplotlib.pyplot as plt\n",
    "x = [1, 2.3, 1.5]\n",
    "plt.hist(x, bins = [0, 1, 2, 3, 5])"
   ]
  },
  {
   "cell_type": "code",
   "execution_count": 36,
   "metadata": {},
   "outputs": [
    {
     "data": {
      "text/plain": [
       "[<matplotlib.lines.Line2D at 0x25883fa6fc8>]"
      ]
     },
     "execution_count": 36,
     "metadata": {},
     "output_type": "execute_result"
    },
    {
     "data": {
      "image/png": "[encoded data removed]",
      "text/plain": [
       "<Figure size 432x288 with 1 Axes>"
      ]
     },
     "metadata": {
      "needs_background": "light"
     },
     "output_type": "display_data"
    }
   ],
   "source": [
    "\"\"\"Q77.Write the NumPy program to compute the line graph of a set of data?\"\"\"\n",
    "import numpy as np\n",
    "import matplotlib.pyplot as plt\n",
    "arr = np.random.randint(1, 50, 10)\n",
    "y, x = np.histogram(arr, bins=np.arange(51))\n",
    "fig, ax = plt.subplots()\n",
    "ax.plot(x[:-1], y)"
   ]
  },
  {
   "cell_type": "code",
   "execution_count": 37,
   "metadata": {},
   "outputs": [
    {
     "name": "stdout",
     "output_type": "stream",
     "text": [
      "Original array-\n",
      "[[ 0  1  2  3]\n",
      " [ 4  5  6  7]\n",
      " [ 8  9 10 11]\n",
      " [12 13 14 15]]\n",
      "Extracted data- Second row\n",
      "[4 5 6 7]\n"
     ]
    }
   ],
   "source": [
    "\"\"\"Q78. Write theNumPy program to extract all the elements from second row from given (4x4) array?\"\"\"\n",
    "import numpy as np\n",
    "arr = np.arange(16).reshape(4,4)\n",
    "print('Original array-')\n",
    "print(arr)\n",
    "print('Extracted data- Second row')\n",
    "print( arr[1])"
   ]
  },
  {
   "cell_type": "code",
   "execution_count": 38,
   "metadata": {},
   "outputs": [
    {
     "name": "stdout",
     "output_type": "stream",
     "text": [
      "Original array-\n",
      "[[ 0  1  2  3]\n",
      " [ 4  5  6  7]\n",
      " [ 8  9 10 11]\n",
      " [12 13 14 15]]\n",
      "Extracted data-First element of the second row and fourth element of fourth roww\n",
      "[ 4 15]\n"
     ]
    }
   ],
   "source": [
    "\"\"\"Q79. Write the NumPy program to extract first element of the second row and fourth element of fourth row from a given (4x4) array\"\"\"\n",
    "import numpy as np\n",
    "arr = np.arange(16).reshape(4,4)\n",
    "print('Original array-')\n",
    "print(arr)\n",
    "print('Extracted data-First element of the second row and fourth element of fourth roww')\n",
    "print( arr[[1,3], [0,3]])"
   ]
  },
  {
   "cell_type": "code",
   "execution_count": 39,
   "metadata": {},
   "outputs": [
    {
     "name": "stdout",
     "output_type": "stream",
     "text": [
      "Original array-\n",
      "Array-1\n",
      "[[1. 1. 1.]\n",
      " [1. 1. 1.]\n",
      " [1. 1. 1.]]\n",
      "Array-2\n",
      "[0 1 2]\n",
      "A+B\n",
      " [[1. 2. 3.]\n",
      " [1. 2. 3.]\n",
      " [1. 2. 3.]]\n"
     ]
    }
   ],
   "source": [
    "\"\"\"Q80. Write theNumPy program to add two arrays Aand B of sizes (3,3) and (,3)?\"\"\"\n",
    "import numpy as np\n",
    "A = np.ones((3,3))\n",
    "B = np.arange(3)\n",
    "print('Original array-')\n",
    "print('Array-1')\n",
    "print(A)\n",
    "print('Array-2')\n",
    "print(B)\n",
    "print('A+B\\n', A+B)"
   ]
  },
  {
   "cell_type": "code",
   "execution_count": 41,
   "metadata": {},
   "outputs": [
    {
     "name": "stdout",
     "output_type": "stream",
     "text": [
      "Original array-\n",
      "[24 27 30 29 18 14]\n",
      "Copy of the said array-\n",
      "[24 27 30 29 18 14]\n"
     ]
    }
   ],
   "source": [
    "\"\"\"Q81. Write the NumPy program to copy data from a given array to another array?\"\"\"\n",
    "import numpy as np\n",
    "x = np.array([24, 27, 30, 29, 18, 14])\n",
    "print('Original array-')\n",
    "print(x)\n",
    "y = np.copy(x)\n",
    "print('Copy of the said array-')\n",
    "print(y)"
   ]
  },
  {
   "cell_type": "code",
   "execution_count": 42,
   "metadata": {},
   "outputs": [
    {
     "name": "stdout",
     "output_type": "stream",
     "text": [
      "Original array:\n",
      "[[ 0  1  2  3  4  5  6  7  8]\n",
      " [ 9 10 11 12 13 14 15 16 17]\n",
      " [18 19 20 21 22 23 24 25 26]\n",
      " [27 28 29 30 31 32 33 34 35]]\n",
      "\n",
      "Sum of all columns:\n",
      "[54 58 62 66 70 74 78 82 86]\n"
     ]
    }
   ],
   "source": [
    "\"\"\"Q82. Write theNumPy program to calculate the sum of all columns of the2D numpy array? \"\"\"\n",
    "import numpy as np \n",
    "num = np.arange(36) \n",
    "arr1 = np.reshape(num, [4, 9]) \n",
    "print(\"Original array:\") \n",
    "print(arr1) \n",
    "result = arr1.sum(axis=0) \n",
    "print(\"\\nSum of all columns:\") \n",
    "print(result)"
   ]
  },
  {
   "cell_type": "code",
   "execution_count": 47,
   "metadata": {},
   "outputs": [
    {
     "name": "stdout",
     "output_type": "stream",
     "text": [
      "Original array-\n",
      "[[10. 20. 30.]\n",
      " [40. 50. nan]\n",
      " [nan  6. nan]\n",
      " [nan nan nan]]\n",
      "Averages without NaNs along the said array-\n",
      "[20. 45.  6. nan]\n"
     ]
    }
   ],
   "source": [
    "\"\"\"Q83. Write theNumPy program to calculate averages without NaNs along thegiven array?\"\"\"\n",
    "import numpy as np\n",
    "\n",
    "arr1 = np.array([[10, 20 ,30], [40, 50, np.nan], [np.nan, 6, np.nan], [np.nan, np.nan, np.nan]])\n",
    "print('Original array-')\n",
    "print(arr1)\n",
    "\n",
    "masked_arr = np.ma.masked_array(arr1, np.isnan(arr1))\n",
    "average = np.mean(masked_arr, axis=1)\n",
    "\n",
    "print('Averages without NaNs along the said array-')\n",
    "print(average.filled(np.nan))"
   ]
  },
  {
   "cell_type": "code",
   "execution_count": 48,
   "metadata": {},
   "outputs": [
    {
     "name": "stdout",
     "output_type": "stream",
     "text": [
      "Number of instances of a value occurring in one array on the condition of another\n",
      "3\n"
     ]
    }
   ],
   "source": [
    "\"\"\"Q84. Create two arrays of six elements. Write the NumPy program to count the number of instances of a value occurring in one array on the condition of another array.\"\"\"\n",
    "import numpy as np\n",
    "\n",
    "a = np.array( [ 10, -10, 10, -10, -10, 10] )\n",
    "b = np.array( [0.85, 0.45, 0.9, 0.8, 0.12, 0.6 ] )  \n",
    "c = np.sum( (a == 10) & (b >= .6))\n",
    "print('Number of instances of a value occurring in one array on the condition of another')\n",
    "print(c)"
   ]
  },
  {
   "cell_type": "code",
   "execution_count": 49,
   "metadata": {},
   "outputs": [
    {
     "name": "stdout",
     "output_type": "stream",
     "text": [
      "\n",
      "Original dictionary:\n",
      "{'column0': {'a': 1, 'b': 0.0, 'c': 0.0, 'd': 2.0}, 'column1': {'a': 3.0, 'b': 1, 'c': 0.0, 'd': -1.0}, 'column2': {'a': 4, 'b': 1, 'c': 5.0, 'd': -1.0}, 'column3': {'a': 3.0, 'b': -1.0, 'c': -1.0, 'd': -1.0}}\n",
      "Type:  <class 'dict'>\n",
      "\n",
      "ndarray:\n",
      "[[ 1.  0.  0.  2.]\n",
      " [ 3.  1.  0. -1.]\n",
      " [ 4.  1.  5. -1.]\n",
      " [ 3. -1. -1. -1.]]\n",
      "Type:  <class 'numpy.ndarray'>\n"
     ]
    }
   ],
   "source": [
    "\"\"\"Q85.Write the NumPy program to convert a Python dictionary to a Numpy ndarray ?\"\"\"\n",
    "import numpy as np \n",
    "from ast import literal_eval \n",
    "udict = \"\"\"{\"column0\":{\"a\":1,\"b\":0.0,\"c\":0.0,\"d\":2.0},\n",
    "\"column1\":{\"a\":3.0,\"b\":1,\"c\":0.0,\"d\":-1.0},\n",
    "\"column2\":{\"a\":4,\"b\":1,\"c\":5.0,\"d\":-1.0},\n",
    "\"column3\":{\"a\":3.0,\"b\":-1.0,\"c\":-1.0,\"d\":-1.0}\n",
    "}\"\"\" \n",
    "t = literal_eval(udict)\n",
    "print(\"\\nOriginal dictionary:\") \n",
    "print(t) \n",
    "print(\"Type: \",type(t)) \n",
    "result_nparra = np.array([[v[j] for j in ['a', 'b', 'c', 'd']] for k, v in t.items()])\n",
    "print(\"\\nndarray:\") \n",
    "print(result_nparra) \n",
    "print(\"Type: \",type(result_nparra))"
   ]
  },
  {
   "cell_type": "code",
   "execution_count": 50,
   "metadata": {},
   "outputs": [
    {
     "name": "stdout",
     "output_type": "stream",
     "text": [
      "Non-zero unique rows-\n",
      "[[ 1  1  0]\n",
      " [ 0  2  3]\n",
      " [ 0 -1  1]]\n"
     ]
    }
   ],
   "source": [
    "\"\"\"Q86. Write the Numpy program to find and store the non-zero unique rows in an array after comparing each row with other row in the given matrix?\"\"\"\n",
    "import numpy as np\n",
    "x = np.array([[1, 1, 0],\n",
    "              [0, 0, 0],\n",
    "              [0, 2, 3],\n",
    "              [0, 0, 0],\n",
    "              [0, -1, 1],\n",
    "              [0, 0, 0]])\n",
    "\n",
    "temp = {(0, 0, 0 )}\n",
    "result = []\n",
    "\n",
    "for idx, row in enumerate(map(tuple, x)):\n",
    "    \n",
    "    if row not in temp:\n",
    "        result.append(idx)\n",
    "print('Non-zero unique rows-')\n",
    "print(x[result])"
   ]
  },
  {
   "cell_type": "code",
   "execution_count": 51,
   "metadata": {},
   "outputs": [
    {
     "name": "stdout",
     "output_type": "stream",
     "text": [
      "Matrix product of the complex umber is (109-56j)\n"
     ]
    }
   ],
   "source": [
    "\"\"\"Q87. Write the NumPy program to multiply the matrix by another matrix of complex numbers and create a new matrix of complex numbers?\"\"\"\n",
    "import numpy as np\n",
    "x = np.array([1+3j, 2+9j])\n",
    "y = np.array([5+6j, 7+8j])\n",
    "\n",
    "z = np.vdot(x,y)\n",
    "print(f'Matrix product of the complex umber is {z}')"
   ]
  },
  {
   "cell_type": "code",
   "execution_count": 52,
   "metadata": {},
   "outputs": [
    {
     "name": "stdout",
     "output_type": "stream",
     "text": [
      "matrix product of above two arrays- [[3 1]\n",
      " [5 3]]\n"
     ]
    }
   ],
   "source": [
    "\"\"\"Q88. Write a NumPy program to generate the matrix product of two Arrays?\"\"\"\n",
    "x = np.array([[1,0],[1,1] ])\n",
    "y = np.array([[3,1],[2,2]])\n",
    "z = x @ y\n",
    "\n",
    "print(f'matrix product of above two arrays- {z}')"
   ]
  },
  {
   "cell_type": "code",
   "execution_count": 53,
   "metadata": {},
   "outputs": [
    {
     "name": "stdout",
     "output_type": "stream",
     "text": [
      "Roots of the first polynomial- [1. 1.]\n",
      "Roots of the first polynomial- [11.04461946+0.j        -0.8711421 +0.j         0.91326132+0.4531004j\n",
      "  0.91326132-0.4531004j]\n"
     ]
    }
   ],
   "source": [
    "\"\"\"Q89. Write the NumPy program to find roots of the following Polynomials?\"\"\"\n",
    "# Coefficient of eqn a\n",
    "coeff_a = [1, -2, 1]\n",
    "print(f'Roots of the first polynomial- {np.roots(coeff_a)}')\n",
    "\n",
    "# Coefficient of eqn b\n",
    "coeff_b = [1, -12, 10, 7, -10]\n",
    "print(f'Roots of the first polynomial- {np.roots(coeff_b)}')"
   ]
  },
  {
   "cell_type": "code",
   "execution_count": 55,
   "metadata": {},
   "outputs": [
    {
     "name": "stdout",
     "output_type": "stream",
     "text": [
      "Inverse sine-[-1.57079633  0.          1.57079633]\n",
      "Inverse cosine-[3.14159265 1.57079633 0.        ]\n",
      "Inverse tangent-[-0.78539816  0.          0.78539816]\n"
     ]
    }
   ],
   "source": [
    "\"\"\"Q90. Write the NumPy program to calculate inverse of sine, cosine,and inverse tangent for all elements in a given array?\"\"\"\n",
    "x = np.array([-1., 0, 1.])\n",
    "print(f'Inverse sine-{np.arcsin(x)}')\n",
    "print(f'Inverse cosine-{np.arccos(x)}')\n",
    "print(f'Inverse tangent-{np.arctan(x)}')"
   ]
  },
  {
   "cell_type": "code",
   "execution_count": 56,
   "metadata": {},
   "outputs": [
    {
     "name": "stdout",
     "output_type": "stream",
     "text": [
      "Difference between neighboring elements, element-wise of the said array-[ 2  2  2 -7]\n"
     ]
    }
   ],
   "source": [
    "\"\"\"Q91.Write the NumPy program to calculate the difference between neighbouring elements, element-wise of a given array?\"\"\"\n",
    "import numpy as np\n",
    "x = np.array([1, 3, 5, 7, 0])\n",
    "print(f'Difference between neighboring elements, element-wise of the said array-{np.diff(x)}')"
   ]
  },
  {
   "cell_type": "code",
   "execution_count": 57,
   "metadata": {},
   "outputs": [
    {
     "name": "stdout",
     "output_type": "stream",
     "text": [
      "Original flattened array- [[0 1]\n",
      " [2 3]]\n",
      "Maximum value of the above flattened array- 3\n",
      "Minimum value of the above flattened array- 0\n"
     ]
    }
   ],
   "source": [
    "\"\"\"Q92. Write the Python program to find the maximum and the minimum value of a given flattened array?\"\"\"\n",
    "x = np.arange(4)\n",
    "x = x.reshape((2,2))\n",
    "print(f'Original flattened array- {x}')\n",
    "print(f'Maximum value of the above flattened array- {np.amax(x)}')\n",
    "print(f'Minimum value of the above flattened array- {np.amin(x)}')"
   ]
  },
  {
   "cell_type": "code",
   "execution_count": 59,
   "metadata": {},
   "outputs": [
    {
     "name": "stdout",
     "output_type": "stream",
     "text": [
      "Original array-\n",
      "[[ 0  1  2  3  4  5]\n",
      " [ 6  7  8  9 10 11]]\n",
      "[5 5]\n",
      "[5 5]\n",
      "Difference between the maximum and the minimum values of the said array-\n",
      "[5 5]\n"
     ]
    }
   ],
   "source": [
    "\"\"\"Q93. Write the NumPy program to calculate the difference between in the maximum and the minimum values of a given array along the second axis\"\"\"\n",
    "x = np.arange(12).reshape((2,6))\n",
    "print('Original array-')\n",
    "print(x)\n",
    "r1 = np.ptp(x , 1)\n",
    "print(r1)\n",
    "r2 = np.max(x,1) - np.min(x,1)\n",
    "print(r2)\n",
    "print('Difference between the maximum and the minimum values of the said array-')\n",
    "print(r1)"
   ]
  },
  {
   "cell_type": "code",
   "execution_count": 60,
   "metadata": {},
   "outputs": [
    {
     "name": "stdout",
     "output_type": "stream",
     "text": [
      "Original array-\n",
      "[0 1 2 3 4]\n",
      "\n",
      "Weighted average of the said array-\n",
      "\n",
      "Weighted average of the said array:\n",
      "2.6666666666666665\n"
     ]
    }
   ],
   "source": [
    "\"\"\"Q94. Write the NumPy program to compute the weighted of the given array?\"\"\"\n",
    "import numpy as np\n",
    "x = np.array([0, 1, 2, 3, 4])\n",
    "print('Original array-')\n",
    "print(x)\n",
    "weights = np.arange(1, 6)\n",
    "print('\\nWeighted average of the said array-')\n",
    "r1 = np.average(x, weights = weights)\n",
    "r2 = (x*(weights/weights.sum())).sum() \n",
    "assert np.allclose(r1, r2)\n",
    "print(\"\\nWeighted average of the said array:\")\n",
    "print(r1)"
   ]
  },
  {
   "cell_type": "code",
   "execution_count": 61,
   "metadata": {},
   "outputs": [
    {
     "name": "stdout",
     "output_type": "stream",
     "text": [
      "Original array-\n",
      "[0 1 2 3 4 5]\n",
      "\n",
      "Mean- 2.5\n",
      "\n",
      "std- 1\n",
      "\n",
      "variance- 2.9166666666666665\n"
     ]
    }
   ],
   "source": [
    "\"\"\"Q95. Write the NumPy program to compute the mean, standard deviation, and the variance of a given array along the second axis?\"\"\"\n",
    "import numpy as np\n",
    "x = np.arange(6)\n",
    "print('Original array-')\n",
    "print(x)\n",
    "\n",
    "mean = np.mean(x)\n",
    "avg = np.average(x)\n",
    "print('\\nMean-', mean)\n",
    "\n",
    "std = np.std(x)\n",
    "print('\\nstd-', 1)\n",
    "var = np.var(x)\n",
    "print('\\nvariance-', var)"
   ]
  },
  {
   "cell_type": "code",
   "execution_count": 62,
   "metadata": {},
   "outputs": [
    {
     "name": "stdout",
     "output_type": "stream",
     "text": [
      "\n",
      "Original array1-\n",
      "[0 1 2]\n",
      "\n",
      "Original array-2\n",
      "[2 1 0]\n",
      "\n",
      "Covariance matrix of the said arrays:\n",
      "\n",
      "[[ 1. -1.]\n",
      " [-1.  1.]]\n"
     ]
    }
   ],
   "source": [
    "\"\"\"Q96. Write the Numpy program to compute the covariance matrix of the two given arrays?\"\"\"\n",
    "import numpy as np\n",
    "x = np.array([0, 1, 2])\n",
    "y = np.array([2, 1, 0])\n",
    "print('\\nOriginal array1-')\n",
    "print(x)\n",
    "print('\\nOriginal array-2')\n",
    "print(y)\n",
    "print('\\nCovariance matrix of the said arrays:\\n')\n",
    "print(np.cov(x,y))"
   ]
  },
  {
   "cell_type": "code",
   "execution_count": 63,
   "metadata": {},
   "outputs": [
    {
     "name": "stdout",
     "output_type": "stream",
     "text": [
      "\n",
      "Original array1-\n",
      "[0 1 3]\n",
      "\n",
      "Original array2-\n",
      "[2 4 5]\n",
      "\n",
      "Cross-correlation of the said arrays-\n",
      "[[2.33333333 2.16666667]\n",
      " [2.16666667 2.33333333]]\n"
     ]
    }
   ],
   "source": [
    "\"\"\"Q97.Write a NumPy program to compute the cross-correlation of two given arrays ?\"\"\"\n",
    "import numpy as np\n",
    "x = np.array([0, 1, 3])\n",
    "y = np.array([2, 4, 5])\n",
    "print('\\nOriginal array1-')\n",
    "print(x)\n",
    "print('\\nOriginal array2-')\n",
    "print(y)\n",
    "print('\\nCross-correlation of the said arrays-')\n",
    "print(np.cov(x, y))"
   ]
  },
  {
   "cell_type": "code",
   "execution_count": 64,
   "metadata": {},
   "outputs": [
    {
     "name": "stdout",
     "output_type": "stream",
     "text": [
      "\n",
      "Original array1-\n",
      "[0 1 3]\n",
      "\n",
      "Original array2-\n",
      "[2 4 5]\n",
      "\n",
      "Pearson product-moment correlation coefficients of the said arrays\n"
     ]
    },
    {
     "data": {
      "text/plain": [
       "array([[1.        , 0.92857143],\n",
       "       [0.92857143, 1.        ]])"
      ]
     },
     "execution_count": 64,
     "metadata": {},
     "output_type": "execute_result"
    }
   ],
   "source": [
    "\"\"\"Q98. Write theNumPy program to compute Pearson product-moment correlation coefficients of two given arrays?\"\"\"\n",
    "import numpy as np\n",
    "x = np.array([0, 1, 3])\n",
    "y = np.array([2, 4, 5])\n",
    "print('\\nOriginal array1-')\n",
    "print(x)\n",
    "print('\\nOriginal array2-')\n",
    "print(y)\n",
    "print('\\nPearson product-moment correlation coefficients of the said arrays')\n",
    "np.corrcoef(x, y)"
   ]
  },
  {
   "cell_type": "code",
   "execution_count": 68,
   "metadata": {},
   "outputs": [
    {
     "name": "stdout",
     "output_type": "stream",
     "text": [
      "Original array\n",
      "[0, 1, 6, 1, 4, 1, 2, 2, 7]\n",
      "Number of occurrences of each value in array-\n",
      "[1 3 2 0 1 0 1 1]\n"
     ]
    }
   ],
   "source": [
    "\"\"\"Q99.Write the python program to count the number of occurrences of each value in a given array of non-negative integers?\"\"\"\n",
    "import numpy as np\n",
    "x = [0, 1, 6, 1, 4, 1, 2, 2, 7]\n",
    "print('Original array')\n",
    "print(x)\n",
    "print('Number of occurrences of each value in array-')\n",
    "print(np.bincount(x))"
   ]
  },
  {
   "cell_type": "code",
   "execution_count": 69,
   "metadata": {},
   "outputs": [
    {
     "name": "stdout",
     "output_type": "stream",
     "text": [
      "nums-  [0.5 0.7 1.  1.2 1.3 2.1]\n",
      "bins- [0 1 2 3]\n",
      "Result- (array([2, 3, 1], dtype=int64), array([0, 1, 2, 3]))\n"
     ]
    },
    {
     "data": {
      "text/plain": [
       "(array([2., 3., 1.]), array([0, 1, 2, 3]), <a list of 3 Patch objects>)"
      ]
     },
     "execution_count": 69,
     "metadata": {},
     "output_type": "execute_result"
    },
    {
     "data": {
      "image/png": "[encoded data removed]",
      "text/plain": [
       "<Figure size 432x288 with 1 Axes>"
      ]
     },
     "metadata": {
      "needs_background": "light"
     },
     "output_type": "display_data"
    }
   ],
   "source": [
    "\"\"\"Q100. Write a Numpy program to compute the histogram of nums against the bins\"\"\"\n",
    "import numpy as np\n",
    "import matplotlib.pyplot as plt\n",
    "nums = np.array([0.5, 0.7, 1.0, 1.2, 1.3, 2.1])\n",
    "bins = np.array([0, 1, 2, 3])\n",
    "print('nums- ', nums)\n",
    "print('bins-', bins)\n",
    "print('Result-', np.histogram(nums, bins))\n",
    "plt.hist(nums, bins=bins)"
   ]
  },
  {
   "cell_type": "code",
   "execution_count": 72,
   "metadata": {},
   "outputs": [
    {
     "name": "stdout",
     "output_type": "stream",
     "text": [
      "s1 + s2\n",
      "0     3\n",
      "1     7\n",
      "2    11\n",
      "3    15\n",
      "4    19\n",
      "dtype: int64\n",
      "\n",
      "s1 - s2\n",
      "0     3\n",
      "1     7\n",
      "2    11\n",
      "3    15\n",
      "4    19\n",
      "dtype: int64\n",
      "\n",
      "s1 * s2\n",
      "0     2\n",
      "1    12\n",
      "2    30\n",
      "3    56\n",
      "4    90\n",
      "dtype: int64\n",
      "\n",
      "s1 / s2\n",
      "0    2.000000\n",
      "1    1.333333\n",
      "2    1.200000\n",
      "3    1.142857\n",
      "4    1.111111\n",
      "dtype: float64\n"
     ]
    }
   ],
   "source": [
    "\"\"\"Q101. Write the Python program to add, subtract, multiplyand divide two pandas series?\"\"\"\n",
    "import pandas as pd\n",
    "s1 = pd.Series([2, 4, 6, 8, 10])\n",
    "s2 = pd.Series([1, 3, 5, 7, 9])\n",
    "print('s1 + s2')\n",
    "print(s1+s2)\n",
    "print('\\ns1 - s2')\n",
    "print(s1 + s2)\n",
    "print('\\ns1 * s2')\n",
    "print(s1 * s2)\n",
    "print('\\ns1 / s2')\n",
    "print(s1/s2)"
   ]
  },
  {
   "cell_type": "code",
   "execution_count": 73,
   "metadata": {},
   "outputs": [
    {
     "name": "stdout",
     "output_type": "stream",
     "text": [
      "Original dictionary-\n",
      "{'a': 100, 'b': 200, 'c': 300, 'd': 400, 'e': 800}\n",
      "Converted series-\n",
      "a    100\n",
      "b    200\n",
      "c    300\n",
      "d    400\n",
      "e    800\n",
      "dtype: int64\n"
     ]
    }
   ],
   "source": [
    "\"\"\"Q102.Write a Python program to convert a dictionary to thePandas Series?\"\"\"\n",
    "import pandas as pd\n",
    "dict = {'a': 100, 'b':200, 'c': 300, 'd': 400, 'e': 800}\n",
    "s = pd.Series(dict)\n",
    "print('Original dictionary-')\n",
    "print(dict)\n",
    "print('Converted series-')\n",
    "print(s)"
   ]
  },
  {
   "cell_type": "code",
   "execution_count": 74,
   "metadata": {},
   "outputs": [
    {
     "name": "stdout",
     "output_type": "stream",
     "text": [
      "Original Data Series-\n",
      "0       100\n",
      "1       200\n",
      "2    python\n",
      "3    300.12\n",
      "4       400\n",
      "dtype: object\n",
      "Change the said data type to numeric-\n",
      "0    100.00\n",
      "1    200.00\n",
      "2       NaN\n",
      "3    300.12\n",
      "4    400.00\n",
      "dtype: float64\n"
     ]
    }
   ],
   "source": [
    "\"\"\"Q103.Write a python program to change the data typeof given a column or a Series?\"\"\"\n",
    "import pandas as pd\n",
    "s1 = pd.Series(['100', '200', 'python', '300.12', '400'])\n",
    "print('Original Data Series-')\n",
    "print(s1)\n",
    "print('Change the said data type to numeric-')\n",
    "s2 = pd.to_numeric(s1, errors='coerce' )\n",
    "print(s2)"
   ]
  },
  {
   "cell_type": "code",
   "execution_count": 75,
   "metadata": {},
   "outputs": [
    {
     "name": "stdout",
     "output_type": "stream",
     "text": [
      "Original DataFrame-\n",
      "   col1  col2  col3\n",
      "0     1     4     7\n",
      "1     2     5     5\n",
      "2     3     6     8\n",
      "3     4     9    12\n",
      "4     7     5     1\n",
      "5    11     0    11\n",
      "1st column as a Series-\n",
      "0     1\n",
      "1     2\n",
      "2     3\n",
      "3     4\n",
      "4     7\n",
      "5    11\n",
      "Name: col1, dtype: int64\n",
      "<class 'pandas.core.series.Series'>\n"
     ]
    }
   ],
   "source": [
    "\"\"\"Q104. Write the python pandas program to convert the first column of a DataFrame as a Series?\"\"\"\n",
    "import pandas as pd\n",
    "d = {'col1': [1, 2, 3, 4, 7, 11], 'col2': [4, 5, 6, 9, 5, 0], 'col3': [7, 5, 8, 12, 1,11]}\n",
    "df = pd.DataFrame(d)\n",
    "print('Original DataFrame-')\n",
    "print(df)\n",
    "\n",
    "s = pd.Series(df['col1'])\n",
    "print('1st column as a Series-')\n",
    "print(s)\n",
    "print(type(s))"
   ]
  },
  {
   "cell_type": "code",
   "execution_count": 77,
   "metadata": {},
   "outputs": [
    {
     "name": "stdout",
     "output_type": "stream",
     "text": [
      "Original Data Series:\n",
      "0     1\n",
      "1     2\n",
      "2     3\n",
      "3     4\n",
      "4     5\n",
      "5     6\n",
      "6     7\n",
      "7     8\n",
      "8     9\n",
      "9     5\n",
      "10    3\n",
      "dtype: int64\n",
      "Mean of the said Data Series-\n",
      "4.818181818181818\n",
      "Standard deviation of the said Data Series-\n",
      "2.522624895547565\n"
     ]
    }
   ],
   "source": [
    "\"\"\"Q105. Write a pandas program to create the mean and standard deviation of the data of a given Series?\"\"\"\n",
    "import pandas as pd\n",
    "s = pd.Series([1,2,3,4,5,6,7,8,9,5,3])\n",
    "print('Original Data Series:')\n",
    "print(s)\n",
    "print('Mean of the said Data Series-')\n",
    "print(s.mean())\n",
    "print('Standard deviation of the said Data Series-')\n",
    "print(s.std())"
   ]
  },
  {
   "cell_type": "code",
   "execution_count": 78,
   "metadata": {},
   "outputs": [
    {
     "name": "stdout",
     "output_type": "stream",
     "text": [
      "    X   Y   Z\n",
      "0  78  84  86\n",
      "1  85  94  97\n",
      "2  96  89  96\n",
      "3  80  83  72\n",
      "4  86  86  83\n"
     ]
    },
    {
     "data": {
      "text/html": [
       "<div>\n",
       "<style scoped>\n",
       "    .dataframe tbody tr th:only-of-type {\n",
       "        vertical-align: middle;\n",
       "    }\n",
       "\n",
       "    .dataframe tbody tr th {\n",
       "        vertical-align: top;\n",
       "    }\n",
       "\n",
       "    .dataframe thead th {\n",
       "        text-align: right;\n",
       "    }\n",
       "</style>\n",
       "<table border=\"1\" class=\"dataframe\">\n",
       "  <thead>\n",
       "    <tr style=\"text-align: right;\">\n",
       "      <th></th>\n",
       "      <th>X</th>\n",
       "      <th>Y</th>\n",
       "      <th>Z</th>\n",
       "    </tr>\n",
       "  </thead>\n",
       "  <tbody>\n",
       "    <tr>\n",
       "      <td>0</td>\n",
       "      <td>474552</td>\n",
       "      <td>592704</td>\n",
       "      <td>636056</td>\n",
       "    </tr>\n",
       "    <tr>\n",
       "      <td>1</td>\n",
       "      <td>614125</td>\n",
       "      <td>830584</td>\n",
       "      <td>912673</td>\n",
       "    </tr>\n",
       "    <tr>\n",
       "      <td>2</td>\n",
       "      <td>884736</td>\n",
       "      <td>704969</td>\n",
       "      <td>884736</td>\n",
       "    </tr>\n",
       "    <tr>\n",
       "      <td>3</td>\n",
       "      <td>512000</td>\n",
       "      <td>571787</td>\n",
       "      <td>373248</td>\n",
       "    </tr>\n",
       "    <tr>\n",
       "      <td>4</td>\n",
       "      <td>636056</td>\n",
       "      <td>636056</td>\n",
       "      <td>571787</td>\n",
       "    </tr>\n",
       "  </tbody>\n",
       "</table>\n",
       "</div>"
      ],
      "text/plain": [
       "        X       Y       Z\n",
       "0  474552  592704  636056\n",
       "1  614125  830584  912673\n",
       "2  884736  704969  884736\n",
       "3  512000  571787  373248\n",
       "4  636056  636056  571787"
      ]
     },
     "execution_count": 78,
     "metadata": {},
     "output_type": "execute_result"
    }
   ],
   "source": [
    "\"\"\"Q106.Write a pandas program to get powers of an array values element-wise?\"\"\"\n",
    "import pandas as pd\n",
    "import numpy as np\n",
    "df = pd.DataFrame( {'X':[78,85,96,80,86], 'Y':[84,94,89,83,86],'Z':[86,97,96,72,83]})\n",
    "print(df)\n",
    "np.power(df, 3)"
   ]
  },
  {
   "cell_type": "code",
   "execution_count": 79,
   "metadata": {},
   "outputs": [
    {
     "name": "stdout",
     "output_type": "stream",
     "text": [
      "\n",
      "First three rows of the data frame-\n",
      "   attempts       name qualify  score\n",
      "a         1  Anastasia     yes   12.5\n",
      "b         3       Dima      no    9.0\n",
      "c         2  Katherine     yes   16.5\n"
     ]
    }
   ],
   "source": [
    "\"\"\"Q107. Write thepandas program to get the first 3 rows of a given DataFrame?\"\"\"\n",
    "import pandas as pd\n",
    "\n",
    "exam_data= {'name': ['Anastasia', 'Dima', 'Katherine', 'James', 'Emily', 'Michael', 'Matthew', 'Laura', 'Kevin', 'Jonas'],\n",
    "            'score': [12.5, 9, 16.5, np.nan, 9, 20, 14.5, np.nan, 8, 19],\n",
    "            'attempts':[1, 3, 2, 3, 2, 3, 1, 1, 2, 1],\n",
    "            'qualify':['yes', 'no', 'yes', 'no', 'no', 'yes', 'yes', 'no','no','yes']}\n",
    "labels = ['a', 'b', 'c', 'd', 'e', 'f', 'g', 'h', 'i', 'j']\n",
    "\n",
    "df = pd.DataFrame(exam_data, index = labels)\n",
    "print('\\nFirst three rows of the data frame-')\n",
    "df1 = df.iloc[:3]\n",
    "print(df1[ ['attempts','name', 'qualify', 'score'] ])"
   ]
  },
  {
   "cell_type": "code",
   "execution_count": 80,
   "metadata": {},
   "outputs": [
    {
     "data": {
      "text/html": [
       "<div>\n",
       "<style scoped>\n",
       "    .dataframe tbody tr th:only-of-type {\n",
       "        vertical-align: middle;\n",
       "    }\n",
       "\n",
       "    .dataframe tbody tr th {\n",
       "        vertical-align: top;\n",
       "    }\n",
       "\n",
       "    .dataframe thead th {\n",
       "        text-align: right;\n",
       "    }\n",
       "</style>\n",
       "<table border=\"1\" class=\"dataframe\">\n",
       "  <thead>\n",
       "    <tr style=\"text-align: right;\">\n",
       "      <th></th>\n",
       "      <th>name</th>\n",
       "      <th>score</th>\n",
       "    </tr>\n",
       "  </thead>\n",
       "  <tbody>\n",
       "    <tr>\n",
       "      <td>b</td>\n",
       "      <td>Dima</td>\n",
       "      <td>9.0</td>\n",
       "    </tr>\n",
       "    <tr>\n",
       "      <td>d</td>\n",
       "      <td>James</td>\n",
       "      <td>NaN</td>\n",
       "    </tr>\n",
       "    <tr>\n",
       "      <td>f</td>\n",
       "      <td>Michael</td>\n",
       "      <td>20.0</td>\n",
       "    </tr>\n",
       "    <tr>\n",
       "      <td>g</td>\n",
       "      <td>Matthew</td>\n",
       "      <td>14.5</td>\n",
       "    </tr>\n",
       "  </tbody>\n",
       "</table>\n",
       "</div>"
      ],
      "text/plain": [
       "      name  score\n",
       "b     Dima    9.0\n",
       "d    James    NaN\n",
       "f  Michael   20.0\n",
       "g  Matthew   14.5"
      ]
     },
     "execution_count": 80,
     "metadata": {},
     "output_type": "execute_result"
    }
   ],
   "source": [
    "\"\"\"Q108: Write thepandas program to select the specified columns and the rows from a given data frame?\"\"\"\n",
    "import pandas as pd\n",
    "\n",
    "exam_data = {'name': ['Anastasia', 'Dima', 'Katherine', 'James', 'Emily', 'Michael', 'Matthew', 'Laura', 'Kevin', 'Jonas'],\n",
    "             'score':[12.5, 9, 16.5, np.nan, 9, 20, 14.5, np.nan, 8, 19],\n",
    "             'attempts':[1, 3, 2, 3, 2, 3, 1, 1, 2, 1],\n",
    "             'qualify':['yes', 'no', 'yes', 'no', 'no', 'yes', 'yes', 'no', 'no', 'yes']}\n",
    "\n",
    "labels = ['a', 'b', 'c', 'd', 'e', 'f', 'g', 'h', 'i', 'j']\n",
    "\n",
    "df = pd.DataFrame(exam_data, index = labels)\n",
    "df.loc[['b','d','f','g'],['name','score']]"
   ]
  },
  {
   "cell_type": "code",
   "execution_count": 81,
   "metadata": {},
   "outputs": [
    {
     "name": "stdout",
     "output_type": "stream",
     "text": [
      "Mean score for each different student in data frame\n",
      "13.5625\n"
     ]
    }
   ],
   "source": [
    "\"\"\"Q109.Write the pandas program to calculate mean score for each different student in DataFrame?\"\"\"\n",
    "\n",
    "\n",
    "import pandas as pd\n",
    "\n",
    "exam_data= {'name': ['Anastasia', 'Dima', 'Katherine', 'James', 'Emily', 'Michael', 'Matthew', 'Laura', 'Kevin', 'Jonas'],\n",
    "            'score': [12.5, 9, 16.5, np.nan, 9, 20, 14.5, np.nan, 8, 19],\n",
    "            'attempts':[1, 3, 2, 3, 2, 3, 1, 1, 2, 1],\n",
    "            'qualify':['yes', 'no', 'yes', 'no', 'no', 'yes', 'yes', 'no', 'no', 'yes']}\n",
    "\n",
    "labels = ['a', 'b', 'c', 'd', 'e', 'f', 'g', 'h', 'i', 'j']\n",
    "df = pd.DataFrame(exam_data, index= labels)\n",
    "\n",
    "print('Mean score for each different student in data frame')\n",
    "print(df['score'].mean())"
   ]
  },
  {
   "cell_type": "code",
   "execution_count": 82,
   "metadata": {},
   "outputs": [
    {
     "name": "stdout",
     "output_type": "stream",
     "text": [
      "Original DataFrame\n",
      "   col1  col2  col3\n",
      "0     1     4     7\n",
      "1     2     5     8\n",
      "2     3     6     9\n",
      "New dataframe after renaming columns\n",
      "   Column1  Column2  Column3\n",
      "0        1        4        7\n",
      "1        2        5        8\n",
      "2        3        6        9\n"
     ]
    }
   ],
   "source": [
    "\"\"\"Q110.Write thePandas program to rename columns of a given DataFrame?\"\"\"\n",
    "import pandas as pd\n",
    "data = {'col1':[1, 2, 3], 'col2':[4, 5, 6], 'col3':[7, 8, 9]}\n",
    "df = pd.DataFrame(data)\n",
    "print('Original DataFrame')\n",
    "print(df)\n",
    "\n",
    "df = df.rename(columns={'col1':'Column1', 'col2':'Column2', 'col3':'Column3'})\n",
    "print('New dataframe after renaming columns')\n",
    "print(df)"
   ]
  },
  {
   "cell_type": "code",
   "execution_count": 85,
   "metadata": {},
   "outputs": [
    {
     "name": "stdout",
     "output_type": "stream",
     "text": [
      "          city  Number of people\n",
      "0   California                 4\n",
      "1      Georgia                 2\n",
      "2  Los Angeles                 4\n"
     ]
    }
   ],
   "source": [
    "\"\"\"Q111.Write a pandas program to count city-wise number of people from a given of data set (city,name of the person)?\"\"\"\n",
    "import pandas as pd\n",
    "data = { 'name': ['Anastasia', 'Dima', 'Katherine', 'James', 'Emily', 'Michael', 'Matthew', 'Laura', 'Kevin', 'Jonas'],\n",
    "        'city': ['California', 'Los Angeles', 'California', 'California', 'California', 'Los Angeles', 'Los Angeles', 'Georgia', 'Georgia', 'Los Angeles']}\n",
    "df = pd.DataFrame(data)\n",
    "g1 = df.groupby(by=['city']).size().reset_index(name='Number of people')\n",
    "\n",
    "print(g1)"
   ]
  },
  {
   "cell_type": "code",
   "execution_count": 86,
   "metadata": {},
   "outputs": [
    {
     "name": "stdout",
     "output_type": "stream",
     "text": [
      "Original DataFrame\n",
      "   col1  col2  col3\n",
      "0     1     4     7\n",
      "1     4     5     8\n",
      "2     3     6     9\n",
      "3     4     7     0\n",
      "4     5     8     1\n"
     ]
    }
   ],
   "source": [
    "\"\"\"Q112. Write a pandas program to widen output display to see more columns?\"\"\"\n",
    "import pandas as pd\n",
    "d = {'col1': [1, 4, 3, 4, 5], 'col2': [4, 5, 6, 7, 8], 'col3': [7, 8, 9, 0, 1]}\n",
    "df = pd.DataFrame(data=d)\n",
    "pd.set_option('display.max_rows', 500)\n",
    "pd.set_option('display.max_columns', 500)\n",
    "pd.set_option('display.width', 1000)\n",
    "print('Original DataFrame')\n",
    "print(df)"
   ]
  },
  {
   "cell_type": "code",
   "execution_count": 87,
   "metadata": {},
   "outputs": [
    {
     "name": "stdout",
     "output_type": "stream",
     "text": [
      "String Date-\n",
      "0    3/11/2000\n",
      "1    3/12/2000\n",
      "2    3/13/2000\n",
      "dtype: object\n",
      "Original DataFrame (string to datetime)\n",
      "           0\n",
      "0 2000-03-11\n",
      "1 2000-03-12\n",
      "2 2000-03-13\n"
     ]
    }
   ],
   "source": [
    "\"\"\"Q113.Write a pandas program to convert the dataframe column type from string to DateTime?\"\"\"\n",
    "import pandas as pd\n",
    "date = ['3/11/2000', '3/12/2000', '3/13/2000']\n",
    "s = pd.Series(date)\n",
    "print('String Date-')\n",
    "print(s)\n",
    "r = pd.to_datetime(s)\n",
    "df = pd.DataFrame(r)\n",
    "print('Original DataFrame (string to datetime)')\n",
    "print(df)"
   ]
  },
  {
   "cell_type": "code",
   "execution_count": 88,
   "metadata": {},
   "outputs": [
    {
     "name": "stdout",
     "output_type": "stream",
     "text": [
      "Original DataFrame-After appending some data\n",
      "   col1  col2\n",
      "0     0     0\n",
      "1     1     1\n",
      "2     2     2\n"
     ]
    }
   ],
   "source": [
    "\"\"\"Q114. Write a pandas program to append the data to an empty DataFrame?\"\"\"\n",
    "import pandas as pd\n",
    "import numpy as np\n",
    "df = pd.DataFrame()\n",
    "data = pd.DataFrame({'col1':range(3), 'col2':range(3)})\n",
    "df = df.append(data)\n",
    "print('Original DataFrame-After appending some data')\n",
    "print(df)"
   ]
  },
  {
   "cell_type": "code",
   "execution_count": 89,
   "metadata": {},
   "outputs": [
    {
     "name": "stdout",
     "output_type": "stream",
     "text": [
      "Original DataFrame\n",
      "   col1  col2  col3\n",
      "0     1     4     7\n",
      "1     2     5     8\n",
      "2     3     6    12\n",
      "3     4     9     1\n",
      "4     7     5    11\n",
      "\n",
      "Number of columns- 3\n"
     ]
    }
   ],
   "source": [
    "\"\"\"Q115. Write a pandas program to count the number of columns of a DataFrame?\"\"\"\n",
    "import pandas as pd\n",
    "d = {'col1': [1, 2, 3, 4, 7], 'col2': [4, 5, 6, 9, 5], 'col3': [7, 8, 12, 1, 11]}\n",
    "df = pd.DataFrame(d)\n",
    "print('Original DataFrame')\n",
    "print(df)\n",
    "print('\\nNumber of columns-', len(df.columns))"
   ]
  },
  {
   "cell_type": "code",
   "execution_count": 90,
   "metadata": {},
   "outputs": [
    {
     "name": "stdout",
     "output_type": "stream",
     "text": [
      "Original DataFrame\n",
      "   col1  col2  col3\n",
      "0     1     4     7\n",
      "1     2     5     5\n",
      "2     3     6     8\n",
      "3     4     9    12\n",
      "4     7     5     1\n",
      "5    11     0    11\n",
      "\n",
      "After removing last 3 rows of the said DataFrame-\n",
      "   col1  col2  col3\n",
      "0     1     4     7\n",
      "1     2     5     5\n",
      "2     3     6     8\n"
     ]
    }
   ],
   "source": [
    "\"\"\"Q116. Write a Pandas program to remove the last n rows of a given DataFrame?\"\"\"\n",
    "import pandas as pd\n",
    "\n",
    "data = {'col1': [1, 2, 3, 4, 7, 11],\n",
    "     'col2': [4, 5, 6, 9, 5, 0],\n",
    "     'col3': [7, 5, 8, 12, 1,11]}\n",
    "\n",
    "df =pd.DataFrame(data)\n",
    "print('Original DataFrame')\n",
    "print(df)\n",
    "print(\"\\nAfter removing last 3 rows of the said DataFrame-\")\n",
    "df1 = df.iloc[:3]\n",
    "print(df1)"
   ]
  },
  {
   "cell_type": "code",
   "execution_count": 93,
   "metadata": {},
   "outputs": [
    {
     "name": "stdout",
     "output_type": "stream",
     "text": [
      "   Year  MSHA ID                       Mine_Name Production Labor_Hours\n",
      "0  2013   103381            Tacoa Highwall Miner      56004       22392\n",
      "1  2013   103404                Reid School Mine      28807        8447\n",
      "2  2013   100759  North River #1 Underground Min  14,40,115    4,74,784\n",
      "3  2013   103246                      Bear Creek      87587       29193\n",
      "4  2013   103451                     Knight Mine   1,47,499       46393\n"
     ]
    }
   ],
   "source": [
    "\"\"\"Q117. Write a Pandas program to import excel data (coalpublic2013.xlsx ) into a Pandas dataframe.\"\"\"\n",
    "import pandas as pd\n",
    "import numpy as np\n",
    "df = pd.read_excel('coalpublic2013.xlsx')\n",
    "print(df.head())"
   ]
  },
  {
   "cell_type": "code",
   "execution_count": 94,
   "metadata": {},
   "outputs": [
    {
     "name": "stdout",
     "output_type": "stream",
     "text": [
      "    Year  MSHA ID                      Mine_Name Production Labor_Hours\n",
      "13  2013   103332                  Powhatan Mine   1,40,521       61394\n",
      "18  2013   102976  Piney Woods Preparation Plant          0       14828\n",
      "19  2013   102976  Piney Woods Preparation Plant          0       23193\n",
      "46  2013   103321                 Poplar Springs   1,89,370       76366\n"
     ]
    }
   ],
   "source": [
    "\"\"\"Q118. Write a Pandas program to import excel data (coalpublic2013.xlsx ) into a dataframe and find details where \"Mine Name\" starts with \"P.\"\"\"\n",
    "import pandas as pd\n",
    "import numpy as np\n",
    "\n",
    "df = pd.read_excel('coalpublic2013.xlsx')\n",
    "mask = df['Mine_Name'].str.startswith('P')\n",
    "print(df[mask])"
   ]
  },
  {
   "cell_type": "code",
   "execution_count": 121,
   "metadata": {},
   "outputs": [
    {
     "data": {
      "text/html": [
       "<div>\n",
       "<style scoped>\n",
       "    .dataframe tbody tr th:only-of-type {\n",
       "        vertical-align: middle;\n",
       "    }\n",
       "\n",
       "    .dataframe tbody tr th {\n",
       "        vertical-align: top;\n",
       "    }\n",
       "\n",
       "    .dataframe thead th {\n",
       "        text-align: right;\n",
       "    }\n",
       "</style>\n",
       "<table border=\"1\" class=\"dataframe\">\n",
       "  <thead>\n",
       "    <tr style=\"text-align: right;\">\n",
       "      <th></th>\n",
       "      <th>emp_id</th>\n",
       "      <th>first_name</th>\n",
       "      <th>last_name</th>\n",
       "      <th>hire_date</th>\n",
       "    </tr>\n",
       "  </thead>\n",
       "  <tbody>\n",
       "    <tr>\n",
       "      <td>4</td>\n",
       "      <td>104</td>\n",
       "      <td>Bruce</td>\n",
       "      <td>Ernst</td>\n",
       "      <td>2007-05-21</td>\n",
       "    </tr>\n",
       "    <tr>\n",
       "      <td>7</td>\n",
       "      <td>107</td>\n",
       "      <td>Diana</td>\n",
       "      <td>Lorentz</td>\n",
       "      <td>2007-07-02</td>\n",
       "    </tr>\n",
       "    <tr>\n",
       "      <td>13</td>\n",
       "      <td>113</td>\n",
       "      <td>Luis</td>\n",
       "      <td>Popp</td>\n",
       "      <td>2007-07-12</td>\n",
       "    </tr>\n",
       "    <tr>\n",
       "      <td>19</td>\n",
       "      <td>119</td>\n",
       "      <td>Karen</td>\n",
       "      <td>Colmenares</td>\n",
       "      <td>2007-10-08</td>\n",
       "    </tr>\n",
       "  </tbody>\n",
       "</table>\n",
       "</div>"
      ],
      "text/plain": [
       "    emp_id first_name   last_name  hire_date\n",
       "4      104      Bruce       Ernst 2007-05-21\n",
       "7      107      Diana     Lorentz 2007-07-02\n",
       "13     113       Luis        Popp 2007-07-12\n",
       "19     119      Karen  Colmenares 2007-10-08"
      ]
     },
     "execution_count": 121,
     "metadata": {},
     "output_type": "execute_result"
    }
   ],
   "source": [
    "\"\"\"Q119. Write a Pandas program to import excel data (employee.xlsx )into a Pandas dataframe and find the list of employees where hire_date> 01-01-07.\"\"\"\n",
    "import pandas as pd\n",
    "import numpy as np\n",
    "df = pd.read_excel('employee.xlsx')\n",
    "df['hire_date'] = pd.to_datetime(df['hire_date'])  \n",
    "df[df['hire_date'] > '2007-01-01']"
   ]
  },
  {
   "cell_type": "code",
   "execution_count": 123,
   "metadata": {},
   "outputs": [
    {
     "data": {
      "text/html": [
       "<div>\n",
       "<style scoped>\n",
       "    .dataframe tbody tr th:only-of-type {\n",
       "        vertical-align: middle;\n",
       "    }\n",
       "\n",
       "    .dataframe tbody tr th {\n",
       "        vertical-align: top;\n",
       "    }\n",
       "\n",
       "    .dataframe thead th {\n",
       "        text-align: right;\n",
       "    }\n",
       "</style>\n",
       "<table border=\"1\" class=\"dataframe\">\n",
       "  <thead>\n",
       "    <tr style=\"text-align: right;\">\n",
       "      <th></th>\n",
       "      <th>emp_id</th>\n",
       "      <th>first_name</th>\n",
       "      <th>last_name</th>\n",
       "      <th>hire_date</th>\n",
       "    </tr>\n",
       "  </thead>\n",
       "  <tbody>\n",
       "    <tr>\n",
       "      <td>1</td>\n",
       "      <td>101</td>\n",
       "      <td>Neena</td>\n",
       "      <td>Kochhar</td>\n",
       "      <td>21-09-2005</td>\n",
       "    </tr>\n",
       "    <tr>\n",
       "      <td>5</td>\n",
       "      <td>105</td>\n",
       "      <td>David</td>\n",
       "      <td>Austin</td>\n",
       "      <td>25-06-2005</td>\n",
       "    </tr>\n",
       "    <tr>\n",
       "      <td>10</td>\n",
       "      <td>110</td>\n",
       "      <td>John</td>\n",
       "      <td>Chen</td>\n",
       "      <td>28-09-2005</td>\n",
       "    </tr>\n",
       "    <tr>\n",
       "      <td>11</td>\n",
       "      <td>111</td>\n",
       "      <td>Ismael</td>\n",
       "      <td>Sciarra</td>\n",
       "      <td>30-09-2005</td>\n",
       "    </tr>\n",
       "    <tr>\n",
       "      <td>16</td>\n",
       "      <td>116</td>\n",
       "      <td>Shelli</td>\n",
       "      <td>Baida</td>\n",
       "      <td>24-12-2005</td>\n",
       "    </tr>\n",
       "    <tr>\n",
       "      <td>17</td>\n",
       "      <td>117</td>\n",
       "      <td>Sigal</td>\n",
       "      <td>Tobias</td>\n",
       "      <td>24-07-2005</td>\n",
       "    </tr>\n",
       "  </tbody>\n",
       "</table>\n",
       "</div>"
      ],
      "text/plain": [
       "    emp_id first_name last_name   hire_date\n",
       "1      101      Neena   Kochhar  21-09-2005\n",
       "5      105      David    Austin  25-06-2005\n",
       "10     110       John      Chen  28-09-2005\n",
       "11     111     Ismael   Sciarra  30-09-2005\n",
       "16     116     Shelli     Baida  24-12-2005\n",
       "17     117      Sigal    Tobias  24-07-2005"
      ]
     },
     "execution_count": 123,
     "metadata": {},
     "output_type": "execute_result"
    }
   ],
   "source": [
    "\"\"\"Q120.Write a Pandas program to import excel data (employee.xlsx ) into a Pandas dataframe and find a list of the employees of a specified year\"\"\"\n",
    "import pandas as pd\n",
    "import numpy as np\n",
    "df = pd.read_excel('employee.xlsx')\n",
    "df[pd.DatetimeIndex(df['hire_date']).year == 2005]"
   ]
  },
  {
   "cell_type": "code",
   "execution_count": 5,
   "metadata": {},
   "outputs": [
    {
     "data": {
      "text/html": [
       "<div>\n",
       "<style scoped>\n",
       "    .dataframe tbody tr th:only-of-type {\n",
       "        vertical-align: middle;\n",
       "    }\n",
       "\n",
       "    .dataframe tbody tr th {\n",
       "        vertical-align: top;\n",
       "    }\n",
       "\n",
       "    .dataframe thead th {\n",
       "        text-align: right;\n",
       "    }\n",
       "</style>\n",
       "<table border=\"1\" class=\"dataframe\">\n",
       "  <thead>\n",
       "    <tr style=\"text-align: right;\">\n",
       "      <th></th>\n",
       "      <th>Year</th>\n",
       "      <th>MSHA ID</th>\n",
       "      <th>Mine_Name</th>\n",
       "      <th>Production</th>\n",
       "      <th>Labor_Hours</th>\n",
       "    </tr>\n",
       "  </thead>\n",
       "  <tbody>\n",
       "    <tr>\n",
       "      <td>0</td>\n",
       "      <td>2013</td>\n",
       "      <td>103381</td>\n",
       "      <td>Tacoa Highwall Miner</td>\n",
       "      <td>56004</td>\n",
       "      <td>22392</td>\n",
       "    </tr>\n",
       "    <tr>\n",
       "      <td>1</td>\n",
       "      <td>2013</td>\n",
       "      <td>103404</td>\n",
       "      <td>Reid School Mine</td>\n",
       "      <td>28807</td>\n",
       "      <td>8447</td>\n",
       "    </tr>\n",
       "    <tr>\n",
       "      <td>2</td>\n",
       "      <td>2013</td>\n",
       "      <td>100759</td>\n",
       "      <td>North River #1 Underground Min</td>\n",
       "      <td>14,40,115</td>\n",
       "      <td>4,74,784</td>\n",
       "    </tr>\n",
       "    <tr>\n",
       "      <td>3</td>\n",
       "      <td>2013</td>\n",
       "      <td>103246</td>\n",
       "      <td>Bear Creek</td>\n",
       "      <td>87587</td>\n",
       "      <td>29193</td>\n",
       "    </tr>\n",
       "    <tr>\n",
       "      <td>4</td>\n",
       "      <td>2013</td>\n",
       "      <td>103451</td>\n",
       "      <td>Knight Mine</td>\n",
       "      <td>1,47,499</td>\n",
       "      <td>46393</td>\n",
       "    </tr>\n",
       "    <tr>\n",
       "      <td>...</td>\n",
       "      <td>...</td>\n",
       "      <td>...</td>\n",
       "      <td>...</td>\n",
       "      <td>...</td>\n",
       "      <td>...</td>\n",
       "    </tr>\n",
       "    <tr>\n",
       "      <td>45</td>\n",
       "      <td>2013</td>\n",
       "      <td>1519322</td>\n",
       "      <td>Ghm #25</td>\n",
       "      <td>25054</td>\n",
       "      <td>3108</td>\n",
       "    </tr>\n",
       "    <tr>\n",
       "      <td>46</td>\n",
       "      <td>2013</td>\n",
       "      <td>103321</td>\n",
       "      <td>Poplar Springs</td>\n",
       "      <td>1,89,370</td>\n",
       "      <td>76366</td>\n",
       "    </tr>\n",
       "    <tr>\n",
       "      <td>47</td>\n",
       "      <td>2013</td>\n",
       "      <td>103358</td>\n",
       "      <td>Old Union</td>\n",
       "      <td>2,84,563</td>\n",
       "      <td>1,61,805</td>\n",
       "    </tr>\n",
       "    <tr>\n",
       "      <td>48</td>\n",
       "      <td>2013</td>\n",
       "      <td>5000030</td>\n",
       "      <td>Usibelli</td>\n",
       "      <td>16,31,584</td>\n",
       "      <td>2,86,079</td>\n",
       "    </tr>\n",
       "    <tr>\n",
       "      <td>49</td>\n",
       "      <td>2013</td>\n",
       "      <td>201195</td>\n",
       "      <td>Kayenta Mine</td>\n",
       "      <td>76,02,722</td>\n",
       "      <td>10,15,333</td>\n",
       "    </tr>\n",
       "  </tbody>\n",
       "</table>\n",
       "<p>150 rows × 5 columns</p>\n",
       "</div>"
      ],
      "text/plain": [
       "    Year  MSHA ID                       Mine_Name Production Labor_Hours\n",
       "0   2013   103381            Tacoa Highwall Miner      56004       22392\n",
       "1   2013   103404                Reid School Mine      28807        8447\n",
       "2   2013   100759  North River #1 Underground Min  14,40,115    4,74,784\n",
       "3   2013   103246                      Bear Creek      87587       29193\n",
       "4   2013   103451                     Knight Mine   1,47,499       46393\n",
       "..   ...      ...                             ...        ...         ...\n",
       "45  2013  1519322                         Ghm #25      25054        3108\n",
       "46  2013   103321                  Poplar Springs   1,89,370       76366\n",
       "47  2013   103358                       Old Union   2,84,563    1,61,805\n",
       "48  2013  5000030                        Usibelli  16,31,584    2,86,079\n",
       "49  2013   201195                    Kayenta Mine  76,02,722   10,15,333\n",
       "\n",
       "[150 rows x 5 columns]"
      ]
     },
     "execution_count": 5,
     "metadata": {},
     "output_type": "execute_result"
    }
   ],
   "source": [
    "\"\"\"Q121.Write a pandas program to import three datasheets from a given excel data (coalpublic2013.xlsx ) in to a single dataframe.\"\"\"\n",
    "import pandas as pd\n",
    "import numpy as np\n",
    "df1 = pd.read_excel('coalpublic2014.xlsx', sheet_name='Sheet1')\n",
    "df2 = pd.read_excel('coalpublic2014.xlsx', sheet_name='Sheet2')\n",
    "df3 = pd.read_excel('coalpublic2014.xlsx', sheet_name='Sheet3')\n",
    "df = pd.concat([df1, df2, df3], axis = 0)\n",
    "df"
   ]
  },
  {
   "cell_type": "code",
   "execution_count": 7,
   "metadata": {},
   "outputs": [],
   "source": [
    "\"\"\"Q122.Write a pandas program to import three datasheets from a given excel data (employee.xlsx ) into a single dataframe and export the result into new Excel file.\"\"\"\n",
    "import pandas as pd\n",
    "import numpy as np\n",
    "\n",
    "df1 = pd.read_excel('employee.xlsx', sheet_name='Sheet1')\n",
    "df2 = pd.read_excel('employee.xlsx', sheet_name='Sheet2')\n",
    "df3 = pd.read_excel('employee.xlsx', sheet_name='Sheet3')\n",
    "df = pd.concat([df1, df2, df3])\n",
    "df.to_excel('employee-1.xlsx', index = False)"
   ]
  },
  {
   "cell_type": "code",
   "execution_count": 31,
   "metadata": {},
   "outputs": [
    {
     "name": "stdout",
     "output_type": "stream",
     "text": [
      "              Unnamed: 15  adult_male  alone      fare  parch  pclass  sibsp  \\\n",
      "sex    age                                                                     \n",
      "female 0.75           0.0         0.0    0.0   38.5166      2       6      4   \n",
      "       1.00           0.0         0.0    0.0   26.8750      3       6      1   \n",
      "       2.00           0.0         0.0    0.0  259.4750      9      15      9   \n",
      "       3.00           0.0         0.0    0.0   62.6542      3       5      4   \n",
      "       4.00           0.0         0.0    0.0  114.1417      6      13      4   \n",
      "...                   ...         ...    ...       ...    ...     ...    ...   \n",
      "male   70.00          0.0         2.0    1.0   81.5000      1       3      1   \n",
      "       70.50          0.0         1.0    1.0    7.7500      0       3      0   \n",
      "       71.00          0.0         2.0    2.0   84.1584      0       2      0   \n",
      "       74.00          0.0         1.0    1.0    7.7750      0       3      0   \n",
      "       80.00          0.0         1.0    1.0   30.0000      0       1      0   \n",
      "\n",
      "              survived  \n",
      "sex    age              \n",
      "female 0.75          2  \n",
      "       1.00          2  \n",
      "       2.00          2  \n",
      "       3.00          1  \n",
      "       4.00          5  \n",
      "...                ...  \n",
      "male   70.00         0  \n",
      "       70.50         0  \n",
      "       71.00         0  \n",
      "       74.00         0  \n",
      "       80.00         1  \n",
      "\n",
      "[145 rows x 8 columns]\n"
     ]
    }
   ],
   "source": [
    "\"\"\"Q123.Write a pandas program to create the Pivot table with multiple indexes from the data set of the titanic.csv.\"\"\"\n",
    "import pandas as pd\n",
    "import numpy as np\n",
    "df = pd.read_csv('titanic.csv')\n",
    "print(pd.pivot_table(df, index = ['sex', 'age'], aggfunc=np.sum))"
   ]
  },
  {
   "cell_type": "code",
   "execution_count": 32,
   "metadata": {},
   "outputs": [
    {
     "data": {
      "text/html": [
       "<div>\n",
       "<style scoped>\n",
       "    .dataframe tbody tr th:only-of-type {\n",
       "        vertical-align: middle;\n",
       "    }\n",
       "\n",
       "    .dataframe tbody tr th {\n",
       "        vertical-align: top;\n",
       "    }\n",
       "\n",
       "    .dataframe thead th {\n",
       "        text-align: right;\n",
       "    }\n",
       "</style>\n",
       "<table border=\"1\" class=\"dataframe\">\n",
       "  <thead>\n",
       "    <tr style=\"text-align: right;\">\n",
       "      <th></th>\n",
       "      <th>survived</th>\n",
       "    </tr>\n",
       "    <tr>\n",
       "      <th>sex</th>\n",
       "      <th></th>\n",
       "    </tr>\n",
       "  </thead>\n",
       "  <tbody>\n",
       "    <tr>\n",
       "      <td>female</td>\n",
       "      <td>233</td>\n",
       "    </tr>\n",
       "    <tr>\n",
       "      <td>male</td>\n",
       "      <td>109</td>\n",
       "    </tr>\n",
       "  </tbody>\n",
       "</table>\n",
       "</div>"
      ],
      "text/plain": [
       "        survived\n",
       "sex             \n",
       "female       233\n",
       "male         109"
      ]
     },
     "execution_count": 32,
     "metadata": {},
     "output_type": "execute_result"
    }
   ],
   "source": [
    "\"\"\"Q124. Write a Pandas program to create thePivot table and find survival rate by gender?\"\"\"\n",
    "import pandas as pd\n",
    "import numpy as np\n",
    "df = pd.read_csv('titanic.csv')\n",
    "pd.pivot_table(df, index=['sex'], values=['survived'],aggfunc=np.sum)"
   ]
  },
  {
   "cell_type": "code",
   "execution_count": 33,
   "metadata": {},
   "outputs": [
    {
     "name": "stdout",
     "output_type": "stream",
     "text": [
      "0      (10.0, 30.0]\n",
      "1      (30.0, 60.0]\n",
      "2      (10.0, 30.0]\n",
      "3      (30.0, 60.0]\n",
      "4      (30.0, 60.0]\n",
      "           ...     \n",
      "886    (10.0, 30.0]\n",
      "887    (10.0, 30.0]\n",
      "888             NaN\n",
      "889    (10.0, 30.0]\n",
      "890    (30.0, 60.0]\n",
      "Name: age, Length: 891, dtype: category\n",
      "Categories (4, interval[int64]): [(0, 10] < (10, 30] < (30, 60] < (60, 80]]\n"
     ]
    }
   ],
   "source": [
    "\"\"\"Q125.Write a pandas program to make partition each of the passengers into 4 categories based on their age\"\"\"\n",
    "import numpy as np\n",
    "import pandas as pd\n",
    "\n",
    "df = pd.read_csv('titanic.csv')\n",
    "result = pd.cut(df['age'], bins= [0, 10, 30, 60, 80])\n",
    "print(result)"
   ]
  },
  {
   "cell_type": "code",
   "execution_count": 35,
   "metadata": {},
   "outputs": [
    {
     "data": {
      "text/html": [
       "<div>\n",
       "<style scoped>\n",
       "    .dataframe tbody tr th:only-of-type {\n",
       "        vertical-align: middle;\n",
       "    }\n",
       "\n",
       "    .dataframe tbody tr th {\n",
       "        vertical-align: top;\n",
       "    }\n",
       "\n",
       "    .dataframe thead th {\n",
       "        text-align: right;\n",
       "    }\n",
       "</style>\n",
       "<table border=\"1\" class=\"dataframe\">\n",
       "  <thead>\n",
       "    <tr style=\"text-align: right;\">\n",
       "      <th></th>\n",
       "      <th>pclass</th>\n",
       "      <th>1</th>\n",
       "      <th>2</th>\n",
       "      <th>3</th>\n",
       "    </tr>\n",
       "    <tr>\n",
       "      <th>sex</th>\n",
       "      <th>age</th>\n",
       "      <th></th>\n",
       "      <th></th>\n",
       "      <th></th>\n",
       "    </tr>\n",
       "  </thead>\n",
       "  <tbody>\n",
       "    <tr>\n",
       "      <td rowspan=\"2\" valign=\"top\">female</td>\n",
       "      <td>(0, 20]</td>\n",
       "      <td>0.928571</td>\n",
       "      <td>1.000000</td>\n",
       "      <td>0.510638</td>\n",
       "    </tr>\n",
       "    <tr>\n",
       "      <td>(20, 55]</td>\n",
       "      <td>0.968750</td>\n",
       "      <td>0.912281</td>\n",
       "      <td>0.407407</td>\n",
       "    </tr>\n",
       "    <tr>\n",
       "      <td rowspan=\"2\" valign=\"top\">male</td>\n",
       "      <td>(0, 20]</td>\n",
       "      <td>0.571429</td>\n",
       "      <td>0.526316</td>\n",
       "      <td>0.197368</td>\n",
       "    </tr>\n",
       "    <tr>\n",
       "      <td>(20, 55]</td>\n",
       "      <td>0.440000</td>\n",
       "      <td>0.054054</td>\n",
       "      <td>0.134503</td>\n",
       "    </tr>\n",
       "  </tbody>\n",
       "</table>\n",
       "</div>"
      ],
      "text/plain": [
       "pclass                  1         2         3\n",
       "sex    age                                   \n",
       "female (0, 20]   0.928571  1.000000  0.510638\n",
       "       (20, 55]  0.968750  0.912281  0.407407\n",
       "male   (0, 20]   0.571429  0.526316  0.197368\n",
       "       (20, 55]  0.440000  0.054054  0.134503"
      ]
     },
     "execution_count": 35,
     "metadata": {},
     "output_type": "execute_result"
    }
   ],
   "source": [
    "\"\"\"Q126.Write a pandas program to create thePivot table and find survival rate by the gender, age of the different categories of various classes\"\"\"\n",
    "import numpy as np\n",
    "import pandas as pd\n",
    "df = pd.read_csv('titanic.csv')\n",
    "age = pd.cut(df['age'], bins = [0, 20, 55])\n",
    "df1 = df.pivot_table('survived', index=['sex', age], columns='pclass')\n",
    "df1"
   ]
  },
  {
   "cell_type": "code",
   "execution_count": 36,
   "metadata": {},
   "outputs": [
    {
     "data": {
      "text/html": [
       "<div>\n",
       "<style scoped>\n",
       "    .dataframe tbody tr th:only-of-type {\n",
       "        vertical-align: middle;\n",
       "    }\n",
       "\n",
       "    .dataframe tbody tr th {\n",
       "        vertical-align: top;\n",
       "    }\n",
       "\n",
       "    .dataframe thead tr th {\n",
       "        text-align: left;\n",
       "    }\n",
       "\n",
       "    .dataframe thead tr:last-of-type th {\n",
       "        text-align: right;\n",
       "    }\n",
       "</style>\n",
       "<table border=\"1\" class=\"dataframe\">\n",
       "  <thead>\n",
       "    <tr>\n",
       "      <th></th>\n",
       "      <th colspan=\"3\" halign=\"left\">Unnamed: 15</th>\n",
       "      <th colspan=\"3\" halign=\"left\">adult_male</th>\n",
       "      <th colspan=\"3\" halign=\"left\">age</th>\n",
       "      <th>alive</th>\n",
       "      <th>...</th>\n",
       "      <th>parch</th>\n",
       "      <th colspan=\"3\" halign=\"left\">sibsp</th>\n",
       "      <th colspan=\"3\" halign=\"left\">survived</th>\n",
       "      <th colspan=\"3\" halign=\"left\">who</th>\n",
       "    </tr>\n",
       "    <tr>\n",
       "      <th>pclass</th>\n",
       "      <th>1</th>\n",
       "      <th>2</th>\n",
       "      <th>3</th>\n",
       "      <th>1</th>\n",
       "      <th>2</th>\n",
       "      <th>3</th>\n",
       "      <th>1</th>\n",
       "      <th>2</th>\n",
       "      <th>3</th>\n",
       "      <th>1</th>\n",
       "      <th>...</th>\n",
       "      <th>3</th>\n",
       "      <th>1</th>\n",
       "      <th>2</th>\n",
       "      <th>3</th>\n",
       "      <th>1</th>\n",
       "      <th>2</th>\n",
       "      <th>3</th>\n",
       "      <th>1</th>\n",
       "      <th>2</th>\n",
       "      <th>3</th>\n",
       "    </tr>\n",
       "    <tr>\n",
       "      <th>sex</th>\n",
       "      <th></th>\n",
       "      <th></th>\n",
       "      <th></th>\n",
       "      <th></th>\n",
       "      <th></th>\n",
       "      <th></th>\n",
       "      <th></th>\n",
       "      <th></th>\n",
       "      <th></th>\n",
       "      <th></th>\n",
       "      <th></th>\n",
       "      <th></th>\n",
       "      <th></th>\n",
       "      <th></th>\n",
       "      <th></th>\n",
       "      <th></th>\n",
       "      <th></th>\n",
       "      <th></th>\n",
       "      <th></th>\n",
       "      <th></th>\n",
       "      <th></th>\n",
       "    </tr>\n",
       "  </thead>\n",
       "  <tbody>\n",
       "    <tr>\n",
       "      <td>female</td>\n",
       "      <td>0</td>\n",
       "      <td>0</td>\n",
       "      <td>0</td>\n",
       "      <td>94</td>\n",
       "      <td>76</td>\n",
       "      <td>144</td>\n",
       "      <td>85</td>\n",
       "      <td>74</td>\n",
       "      <td>102</td>\n",
       "      <td>94</td>\n",
       "      <td>...</td>\n",
       "      <td>144</td>\n",
       "      <td>94</td>\n",
       "      <td>76</td>\n",
       "      <td>144</td>\n",
       "      <td>94</td>\n",
       "      <td>76</td>\n",
       "      <td>144</td>\n",
       "      <td>94</td>\n",
       "      <td>76</td>\n",
       "      <td>144</td>\n",
       "    </tr>\n",
       "    <tr>\n",
       "      <td>male</td>\n",
       "      <td>0</td>\n",
       "      <td>0</td>\n",
       "      <td>0</td>\n",
       "      <td>122</td>\n",
       "      <td>108</td>\n",
       "      <td>347</td>\n",
       "      <td>101</td>\n",
       "      <td>99</td>\n",
       "      <td>253</td>\n",
       "      <td>122</td>\n",
       "      <td>...</td>\n",
       "      <td>347</td>\n",
       "      <td>122</td>\n",
       "      <td>108</td>\n",
       "      <td>347</td>\n",
       "      <td>122</td>\n",
       "      <td>108</td>\n",
       "      <td>347</td>\n",
       "      <td>122</td>\n",
       "      <td>108</td>\n",
       "      <td>347</td>\n",
       "    </tr>\n",
       "  </tbody>\n",
       "</table>\n",
       "<p>2 rows × 42 columns</p>\n",
       "</div>"
      ],
      "text/plain": [
       "       Unnamed: 15       adult_male            age          alive  ... parch  \\\n",
       "pclass           1  2  3          1    2    3    1   2    3     1  ...     3   \n",
       "sex                                                                ...         \n",
       "female           0  0  0         94   76  144   85  74  102    94  ...   144   \n",
       "male             0  0  0        122  108  347  101  99  253   122  ...   347   \n",
       "\n",
       "       sibsp           survived            who            \n",
       "pclass     1    2    3        1    2    3    1    2    3  \n",
       "sex                                                       \n",
       "female    94   76  144       94   76  144   94   76  144  \n",
       "male     122  108  347      122  108  347  122  108  347  \n",
       "\n",
       "[2 rows x 42 columns]"
      ]
     },
     "execution_count": 36,
     "metadata": {},
     "output_type": "execute_result"
    }
   ],
   "source": [
    "\"\"\"Q127.Write a pandas program to create thePivot table and calculate number of women and men were in a particular cabin class.\"\"\"\n",
    "import numpy as np\n",
    "import pandas as pd\n",
    "\n",
    "df = pd.read_csv('titanic.csv')\n",
    "df1 = df.pivot_table(index=['sex'], columns=['pclass'], aggfunc='count')\n",
    "df1"
   ]
  },
  {
   "cell_type": "code",
   "execution_count": 38,
   "metadata": {},
   "outputs": [
    {
     "name": "stdout",
     "output_type": "stream",
     "text": [
      "class            First    Second     Third\n",
      "sex    alone                              \n",
      "female False  0.966667  0.931818  0.416667\n",
      "       True   0.970588  0.906250  0.616667\n",
      "male   False  0.425532  0.277778  0.180723\n",
      "       True   0.333333  0.097222  0.121212\n"
     ]
    }
   ],
   "source": [
    "\"\"\"128.Write a pandas program to create thePivot table and separate the gender according to whether they travelled alone or not to get the probability of survival\"\"\"\n",
    "import pandas as pd\n",
    "import numpy as np\n",
    "df = pd.read_csv('titanic.csv')\n",
    "result = df.pivot_table( 'survived' , [ 'sex' , 'alone' ] , 'class' )\n",
    "print(result)"
   ]
  },
  {
   "cell_type": "code",
   "execution_count": 39,
   "metadata": {},
   "outputs": [
    {
     "name": "stdout",
     "output_type": "stream",
     "text": [
      "embark_town  Cherbourg                     Queenstown                   \\\n",
      "class            First    Second     Third      First Second     Third   \n",
      "sex    alone                                                             \n",
      "female False  1.000000  1.000000  0.611111        1.0    NaN  0.625000   \n",
      "       True   0.944444  1.000000  0.800000        NaN    1.0  0.760000   \n",
      "male   False  0.473684  0.166667  0.500000        0.0    NaN  0.100000   \n",
      "       True   0.347826  0.250000  0.151515        NaN    0.0  0.068966   \n",
      "\n",
      "embark_town  Southampton                      \n",
      "class              First    Second     Third  \n",
      "sex    alone                                  \n",
      "female False    0.941176  0.923077  0.327586  \n",
      "       True     1.000000  0.892857  0.466667  \n",
      "male   False    0.407407  0.300000  0.142857  \n",
      "       True     0.326923  0.089552  0.123762  \n"
     ]
    }
   ],
   "source": [
    "\"\"\"Q129. Write a pandas program to create the Pivot table and find the   probability of survival by class, gender, solo boarding, and the port of embarkation. \"\"\"\n",
    "import pandas as pd\n",
    "import numpy as np\n",
    "df = pd.read_csv('titanic.csv')\n",
    "result = df.pivot_table('survived', ['sex' , 'alone' ], [ 'embark_town', 'class' ])\n",
    "print(result)"
   ]
  },
  {
   "cell_type": "code",
   "execution_count": 7,
   "metadata": {},
   "outputs": [
    {
     "name": "stdout",
     "output_type": "stream",
     "text": [
      "Original Dataframe:\n",
      "            Date_time                  city state/province country UFO_shape  \\\n",
      "0 1910-06-01 15:00:00           wills point             tx      us     cigar   \n",
      "1 1920-06-11 21:00:00                cicero             in      us   unknown   \n",
      "2 1929-07-05 14:00:00  buchanan  (or burns)             or      us      disk   \n",
      "3 1931-06-01 13:00:00               abilene             ks      us      disk   \n",
      "4 1939-06-01 20:00:00              waterloo             al      us  fireball   \n",
      "\n",
      "   length_of_encounter_seconds described_duration_of_encounter  \\\n",
      "0                          120                       2 minutes   \n",
      "1                           60                        1 minute   \n",
      "2                           60                            1min   \n",
      "3                         1800                 30 min. approx.   \n",
      "4                          300                       5 minutes   \n",
      "\n",
      "                                         description date_documented  \\\n",
      "0       Cigar shaped object moving from West to East      04/16/2005   \n",
      "1  ((NUFORC Note:  Probable hoax.  Note date.  PD...      05/12/2009   \n",
      "2  we were traveling east of burns&#44clmbing up ...      08/16/2002   \n",
      "3  This is a what my mother related to me regardi...      02/14/2006   \n",
      "4  4 high school students see bright&#44 ground-l...      02/21/2014   \n",
      "\n",
      "    latitude   longitude  \n",
      "0  32.709167  -96.008056  \n",
      "1  40.123889  -86.013333  \n",
      "2  43.642500 -118.627500  \n",
      "3  38.917222  -97.213611  \n",
      "4  34.918056  -88.064167  \n",
      "\n",
      "Current date of Ufo dataset:\n",
      "2004-12-08 05:30:00\n",
      "\n",
      "Oldest date of Ufo dataset:\n",
      "1910-06-01 15:00:00\n",
      "\n",
      "Number of days between Current date and oldest date of Ufo dataset:\n",
      "34523\n"
     ]
    }
   ],
   "source": [
    "\"\"\"Q130.Write a pandas program to get current date, oldest date and number of days between Current date andthe oldest date of Ufo dataset.\"\"\"\n",
    "import pandas as pd\n",
    "df = pd.read_csv(r'ufo.csv')\n",
    "df['Date_time'] = df['Date_time'].astype('datetime64[ns]')\n",
    "print(\"Original Dataframe:\")\n",
    "print(df.head())\n",
    "print(\"\\nCurrent date of Ufo dataset:\")\n",
    "print(df.Date_time.max())\n",
    "print(\"\\nOldest date of Ufo dataset:\")\n",
    "print(df.Date_time.min())\n",
    "print(\"\\nNumber of days between Current date and oldest date of Ufo dataset:\")\n",
    "print((df.Date_time.max() - df.Date_time.min()).days)"
   ]
  },
  {
   "cell_type": "code",
   "execution_count": 8,
   "metadata": {},
   "outputs": [
    {
     "data": {
      "text/html": [
       "<div>\n",
       "<style scoped>\n",
       "    .dataframe tbody tr th:only-of-type {\n",
       "        vertical-align: middle;\n",
       "    }\n",
       "\n",
       "    .dataframe tbody tr th {\n",
       "        vertical-align: top;\n",
       "    }\n",
       "\n",
       "    .dataframe thead th {\n",
       "        text-align: right;\n",
       "    }\n",
       "</style>\n",
       "<table border=\"1\" class=\"dataframe\">\n",
       "  <thead>\n",
       "    <tr style=\"text-align: right;\">\n",
       "      <th></th>\n",
       "      <th>Date_time</th>\n",
       "      <th>city</th>\n",
       "      <th>state/province</th>\n",
       "      <th>country</th>\n",
       "      <th>UFO_shape</th>\n",
       "      <th>length_of_encounter_seconds</th>\n",
       "      <th>described_duration_of_encounter</th>\n",
       "      <th>description</th>\n",
       "      <th>date_documented</th>\n",
       "      <th>latitude</th>\n",
       "      <th>longitude</th>\n",
       "    </tr>\n",
       "  </thead>\n",
       "  <tbody>\n",
       "    <tr>\n",
       "      <td>0</td>\n",
       "      <td>06-01-1910 15:00</td>\n",
       "      <td>wills point</td>\n",
       "      <td>tx</td>\n",
       "      <td>us</td>\n",
       "      <td>cigar</td>\n",
       "      <td>120</td>\n",
       "      <td>2 minutes</td>\n",
       "      <td>Cigar shaped object moving from West to East</td>\n",
       "      <td>04/16/2005</td>\n",
       "      <td>32.709167</td>\n",
       "      <td>-96.008056</td>\n",
       "    </tr>\n",
       "    <tr>\n",
       "      <td>1</td>\n",
       "      <td>06-11-1920 21:00</td>\n",
       "      <td>cicero</td>\n",
       "      <td>in</td>\n",
       "      <td>us</td>\n",
       "      <td>unknown</td>\n",
       "      <td>60</td>\n",
       "      <td>1 minute</td>\n",
       "      <td>((NUFORC Note:  Probable hoax.  Note date.  PD...</td>\n",
       "      <td>05/12/2009</td>\n",
       "      <td>40.123889</td>\n",
       "      <td>-86.013333</td>\n",
       "    </tr>\n",
       "    <tr>\n",
       "      <td>2</td>\n",
       "      <td>07-05-1929 14:00</td>\n",
       "      <td>buchanan  (or burns)</td>\n",
       "      <td>or</td>\n",
       "      <td>us</td>\n",
       "      <td>disk</td>\n",
       "      <td>60</td>\n",
       "      <td>1min</td>\n",
       "      <td>we were traveling east of burns&amp;#44clmbing up ...</td>\n",
       "      <td>08/16/2002</td>\n",
       "      <td>43.642500</td>\n",
       "      <td>-118.627500</td>\n",
       "    </tr>\n",
       "    <tr>\n",
       "      <td>3</td>\n",
       "      <td>06-01-1931 13:00</td>\n",
       "      <td>abilene</td>\n",
       "      <td>ks</td>\n",
       "      <td>us</td>\n",
       "      <td>disk</td>\n",
       "      <td>1800</td>\n",
       "      <td>30 min. approx.</td>\n",
       "      <td>This is a what my mother related to me regardi...</td>\n",
       "      <td>02/14/2006</td>\n",
       "      <td>38.917222</td>\n",
       "      <td>-97.213611</td>\n",
       "    </tr>\n",
       "    <tr>\n",
       "      <td>4</td>\n",
       "      <td>06-01-1939 20:00</td>\n",
       "      <td>waterloo</td>\n",
       "      <td>al</td>\n",
       "      <td>us</td>\n",
       "      <td>fireball</td>\n",
       "      <td>300</td>\n",
       "      <td>5 minutes</td>\n",
       "      <td>4 high school students see bright&amp;#44 ground-l...</td>\n",
       "      <td>02/21/2014</td>\n",
       "      <td>34.918056</td>\n",
       "      <td>-88.064167</td>\n",
       "    </tr>\n",
       "    <tr>\n",
       "      <td>...</td>\n",
       "      <td>...</td>\n",
       "      <td>...</td>\n",
       "      <td>...</td>\n",
       "      <td>...</td>\n",
       "      <td>...</td>\n",
       "      <td>...</td>\n",
       "      <td>...</td>\n",
       "      <td>...</td>\n",
       "      <td>...</td>\n",
       "      <td>...</td>\n",
       "      <td>...</td>\n",
       "    </tr>\n",
       "    <tr>\n",
       "      <td>342</td>\n",
       "      <td>04-05-2004 20:35</td>\n",
       "      <td>miami</td>\n",
       "      <td>fl</td>\n",
       "      <td>us</td>\n",
       "      <td>unknown</td>\n",
       "      <td>60</td>\n",
       "      <td>1 minute</td>\n",
       "      <td>It looked like a star and moved in a circular ...</td>\n",
       "      <td>04/09/2004</td>\n",
       "      <td>25.773889</td>\n",
       "      <td>-80.193889</td>\n",
       "    </tr>\n",
       "    <tr>\n",
       "      <td>343</td>\n",
       "      <td>10-06-2004 23:00</td>\n",
       "      <td>placerville</td>\n",
       "      <td>ca</td>\n",
       "      <td>us</td>\n",
       "      <td>disk</td>\n",
       "      <td>3600</td>\n",
       "      <td>1 hour</td>\n",
       "      <td>I saw 5 saucers above Placerville CA.  ((NUFOR...</td>\n",
       "      <td>10/27/2004</td>\n",
       "      <td>38.729722</td>\n",
       "      <td>-120.797500</td>\n",
       "    </tr>\n",
       "    <tr>\n",
       "      <td>344</td>\n",
       "      <td>11-07-2004 20:30</td>\n",
       "      <td>lavina (near)</td>\n",
       "      <td>mt</td>\n",
       "      <td>us</td>\n",
       "      <td>disk</td>\n",
       "      <td>3600</td>\n",
       "      <td>over an hour</td>\n",
       "      <td>Many unusual lights on one object.  ((NUFORC N...</td>\n",
       "      <td>11/09/2004</td>\n",
       "      <td>46.294722</td>\n",
       "      <td>-108.937222</td>\n",
       "    </tr>\n",
       "    <tr>\n",
       "      <td>345</td>\n",
       "      <td>12-08-2004 05:30</td>\n",
       "      <td>montreal (canada)</td>\n",
       "      <td>qc</td>\n",
       "      <td>ca</td>\n",
       "      <td>oval</td>\n",
       "      <td>30</td>\n",
       "      <td>about 30 seconds</td>\n",
       "      <td>Bright yellow light at the horizon in the East...</td>\n",
       "      <td>08/07/2007</td>\n",
       "      <td>45.500000</td>\n",
       "      <td>-73.583333</td>\n",
       "    </tr>\n",
       "    <tr>\n",
       "      <td>346</td>\n",
       "      <td>02-10-2004 05:15</td>\n",
       "      <td>mansfield</td>\n",
       "      <td>oh</td>\n",
       "      <td>us</td>\n",
       "      <td>other</td>\n",
       "      <td>3</td>\n",
       "      <td>3 seconds</td>\n",
       "      <td>THE OBJECT WAS STREAKING&amp;#44 THEN VANISHED</td>\n",
       "      <td>02/12/2004</td>\n",
       "      <td>40.758333</td>\n",
       "      <td>-82.515556</td>\n",
       "    </tr>\n",
       "  </tbody>\n",
       "</table>\n",
       "<p>346 rows × 11 columns</p>\n",
       "</div>"
      ],
      "text/plain": [
       "            Date_time                  city state/province country UFO_shape  \\\n",
       "0    06-01-1910 15:00           wills point             tx      us     cigar   \n",
       "1    06-11-1920 21:00                cicero             in      us   unknown   \n",
       "2    07-05-1929 14:00  buchanan  (or burns)             or      us      disk   \n",
       "3    06-01-1931 13:00               abilene             ks      us      disk   \n",
       "4    06-01-1939 20:00              waterloo             al      us  fireball   \n",
       "..                ...                   ...            ...     ...       ...   \n",
       "342  04-05-2004 20:35                 miami             fl      us   unknown   \n",
       "343  10-06-2004 23:00           placerville             ca      us      disk   \n",
       "344  11-07-2004 20:30         lavina (near)             mt      us      disk   \n",
       "345  12-08-2004 05:30     montreal (canada)             qc      ca      oval   \n",
       "346  02-10-2004 05:15             mansfield             oh      us     other   \n",
       "\n",
       "     length_of_encounter_seconds described_duration_of_encounter  \\\n",
       "0                            120                       2 minutes   \n",
       "1                             60                        1 minute   \n",
       "2                             60                            1min   \n",
       "3                           1800                 30 min. approx.   \n",
       "4                            300                       5 minutes   \n",
       "..                           ...                             ...   \n",
       "342                           60                        1 minute   \n",
       "343                         3600                          1 hour   \n",
       "344                         3600                    over an hour   \n",
       "345                           30                about 30 seconds   \n",
       "346                            3                       3 seconds   \n",
       "\n",
       "                                           description date_documented  \\\n",
       "0         Cigar shaped object moving from West to East      04/16/2005   \n",
       "1    ((NUFORC Note:  Probable hoax.  Note date.  PD...      05/12/2009   \n",
       "2    we were traveling east of burns&#44clmbing up ...      08/16/2002   \n",
       "3    This is a what my mother related to me regardi...      02/14/2006   \n",
       "4    4 high school students see bright&#44 ground-l...      02/21/2014   \n",
       "..                                                 ...             ...   \n",
       "342  It looked like a star and moved in a circular ...      04/09/2004   \n",
       "343  I saw 5 saucers above Placerville CA.  ((NUFOR...      10/27/2004   \n",
       "344  Many unusual lights on one object.  ((NUFORC N...      11/09/2004   \n",
       "345  Bright yellow light at the horizon in the East...      08/07/2007   \n",
       "346         THE OBJECT WAS STREAKING&#44 THEN VANISHED      02/12/2004   \n",
       "\n",
       "      latitude   longitude  \n",
       "0    32.709167  -96.008056  \n",
       "1    40.123889  -86.013333  \n",
       "2    43.642500 -118.627500  \n",
       "3    38.917222  -97.213611  \n",
       "4    34.918056  -88.064167  \n",
       "..         ...         ...  \n",
       "342  25.773889  -80.193889  \n",
       "343  38.729722 -120.797500  \n",
       "344  46.294722 -108.937222  \n",
       "345  45.500000  -73.583333  \n",
       "346  40.758333  -82.515556  \n",
       "\n",
       "[346 rows x 11 columns]"
      ]
     },
     "execution_count": 8,
     "metadata": {},
     "output_type": "execute_result"
    }
   ],
   "source": [
    "\"\"\"Q131.Write a pandas program to get all sighting days of the unidentified flying object (ufo) between 1950-10-10 and 1960-10-1\"\"\"\n",
    "import numpy as np\n",
    "import pandas as pd\n",
    "df = pd.read_csv('ufo.csv')\n",
    "selected_period = df[(df['Date_time'] >= '01-01-1950 00:00:00') & (df['Date_time'] <= '31-12-1960 23:59:59')]\n",
    "selected_period"
   ]
  },
  {
   "cell_type": "code",
   "execution_count": 9,
   "metadata": {},
   "outputs": [
    {
     "name": "stdout",
     "output_type": "stream",
     "text": [
      "\n",
      "Year:\n",
      "0    1910\n",
      "1    1920\n",
      "2    1929\n",
      "3    1931\n",
      "4    1939\n",
      "Name: Date_time, dtype: int64\n",
      "\n",
      "Month:\n",
      "0    6\n",
      "1    6\n",
      "2    7\n",
      "3    6\n",
      "4    6\n",
      "Name: Date_time, dtype: int64\n",
      "\n",
      "Day:\n",
      "0     1\n",
      "1    11\n",
      "2     5\n",
      "3     1\n",
      "4     1\n",
      "Name: Date_time, dtype: int64\n",
      "\n",
      "Hour:\n",
      "0    15\n",
      "1    21\n",
      "2    14\n",
      "3    13\n",
      "4    20\n",
      "Name: Date_time, dtype: int64\n",
      "\n",
      "Minute:\n",
      "0    0\n",
      "1    0\n",
      "2    0\n",
      "3    0\n",
      "4    0\n",
      "Name: Date_time, dtype: int64\n",
      "\n",
      "Second:\n",
      "0    0\n",
      "1    0\n",
      "2    0\n",
      "3    0\n",
      "4    0\n",
      "Name: Date_time, dtype: int64\n",
      "\n",
      "Weekday:\n",
      "0    2\n",
      "1    4\n",
      "2    4\n",
      "3    0\n",
      "4    3\n",
      "Name: Date_time, dtype: int64\n"
     ]
    }
   ],
   "source": [
    "\"\"\"Q132.Write a Pandas program to extract the year, month, day, hour,minute, second,and weekday from unidentified flying object (UFO) reporting date.\"\"\"\n",
    "import pandas as pd\n",
    "df = pd.read_csv(r'ufo.csv')\n",
    "df['Date_time'] = df['Date_time'].astype('datetime64[ns]')\n",
    "print(\"\\nYear:\")\n",
    "print(df.Date_time.dt.year.head())\n",
    "print(\"\\nMonth:\")\n",
    "print(df.Date_time.dt.month.head())\n",
    "print(\"\\nDay:\")\n",
    "print(df.Date_time.dt.day.head())\n",
    "print(\"\\nHour:\")\n",
    "print(df.Date_time.dt.hour.head())\n",
    "print(\"\\nMinute:\")\n",
    "print(df.Date_time.dt.minute.head())\n",
    "print(\"\\nSecond:\")\n",
    "print(df.Date_time.dt.second.head())\n",
    "print(\"\\nWeekday:\")\n",
    "print(df.Date_time.dt.weekday.head())"
   ]
  },
  {
   "cell_type": "code",
   "execution_count": 10,
   "metadata": {},
   "outputs": [
    {
     "name": "stdout",
     "output_type": "stream",
     "text": [
      "\n",
      "Country-year wise frequency of reporting dates of UFO:\n",
      "Year  country\n",
      "1910  us          1\n",
      "1920  us          1\n",
      "1929  us          1\n",
      "1931  us          1\n",
      "1939  us          2\n",
      "                 ..\n",
      "2002  ca          1\n",
      "      us         13\n",
      "2003  us          9\n",
      "2004  ca          1\n",
      "      us          6\n",
      "Length: 79, dtype: int64\n"
     ]
    }
   ],
   "source": [
    "\"\"\"Q133.Write a pandas program to count year-country wise frequency of reporting dates of the unidentified flying object\"\"\"\n",
    "import pandas as pd\n",
    "df = pd.read_csv(r'ufo.csv')\n",
    "df['Date_time'] = df['Date_time'].astype('datetime64[ns]')\n",
    "df['Year'] = df['Date_time'].apply(lambda x: \"%d\" % (x.year))\n",
    "result = df.groupby(['Year', 'country']).size()\n",
    "print(\"\\nCountry-year wise frequency of reporting dates of UFO:\")\n",
    "print(result)"
   ]
  },
  {
   "cell_type": "code",
   "execution_count": 11,
   "metadata": {},
   "outputs": [
    {
     "name": "stdout",
     "output_type": "stream",
     "text": [
      "\n",
      "Difference (in days) between documented date and reporting date of UFO:\n",
      "              Date_time                  city state/province country  \\\n",
      "0   1910-06-01 15:00:00           wills point             tx      us   \n",
      "1   1920-06-11 21:00:00                cicero             in      us   \n",
      "2   1929-07-05 14:00:00  buchanan  (or burns)             or      us   \n",
      "3   1931-06-01 13:00:00               abilene             ks      us   \n",
      "4   1939-06-01 20:00:00              waterloo             al      us   \n",
      "..                  ...                   ...            ...     ...   \n",
      "342 2004-04-05 20:35:00                 miami             fl      us   \n",
      "343 2004-10-06 23:00:00           placerville             ca      us   \n",
      "344 2004-11-07 20:30:00         lavina (near)             mt      us   \n",
      "345 2004-12-08 05:30:00     montreal (canada)             qc      ca   \n",
      "346 2004-02-10 05:15:00             mansfield             oh      us   \n",
      "\n",
      "    UFO_shape  length_of_encounter_seconds described_duration_of_encounter  \\\n",
      "0       cigar                          120                       2 minutes   \n",
      "1     unknown                           60                        1 minute   \n",
      "2        disk                           60                            1min   \n",
      "3        disk                         1800                 30 min. approx.   \n",
      "4    fireball                          300                       5 minutes   \n",
      "..        ...                          ...                             ...   \n",
      "342   unknown                           60                        1 minute   \n",
      "343      disk                         3600                          1 hour   \n",
      "344      disk                         3600                    over an hour   \n",
      "345      oval                           30                about 30 seconds   \n",
      "346     other                            3                       3 seconds   \n",
      "\n",
      "                                           description date_documented  \\\n",
      "0         Cigar shaped object moving from West to East      2005-04-16   \n",
      "1    ((NUFORC Note:  Probable hoax.  Note date.  PD...      2009-05-12   \n",
      "2    we were traveling east of burns&#44clmbing up ...      2002-08-16   \n",
      "3    This is a what my mother related to me regardi...      2006-02-14   \n",
      "4    4 high school students see bright&#44 ground-l...      2014-02-21   \n",
      "..                                                 ...             ...   \n",
      "342  It looked like a star and moved in a circular ...      2004-04-09   \n",
      "343  I saw 5 saucers above Placerville CA.  ((NUFOR...      2004-10-27   \n",
      "344  Many unusual lights on one object.  ((NUFORC N...      2004-11-09   \n",
      "345  Bright yellow light at the horizon in the East...      2007-08-07   \n",
      "346         THE OBJECT WAS STREAKING&#44 THEN VANISHED      2004-02-12   \n",
      "\n",
      "      latitude   longitude  Difference  \n",
      "0    32.709167  -96.008056       34652  \n",
      "1    40.123889  -86.013333       32476  \n",
      "2    43.642500 -118.627500       26704  \n",
      "3    38.917222  -97.213611       27286  \n",
      "4    34.918056  -88.064167       27293  \n",
      "..         ...         ...         ...  \n",
      "342  25.773889  -80.193889           3  \n",
      "343  38.729722 -120.797500          20  \n",
      "344  46.294722 -108.937222           1  \n",
      "345  45.500000  -73.583333         971  \n",
      "346  40.758333  -82.515556           1  \n",
      "\n",
      "[347 rows x 12 columns]\n"
     ]
    }
   ],
   "source": [
    "\"\"\"Q134.Write a pandas program to get the difference (in days) between documented date and reporting date of unidentified flying object (UFO).\"\"\"\n",
    "import pandas as pd\n",
    "df = pd.read_csv(r'ufo.csv')\n",
    "df['Date_time'] = df['Date_time'].astype('datetime64[ns]')\n",
    "df['date_documented'] = df['date_documented'].astype('datetime64[ns]')\n",
    "print(\"\\nDifference (in days) between documented date and reporting date of UFO:\")\n",
    "df['Difference'] = (df['date_documented'] - df['Date_time']).dt.days\n",
    "print(df)"
   ]
  },
  {
   "cell_type": "code",
   "execution_count": 12,
   "metadata": {},
   "outputs": [
    {
     "name": "stdout",
     "output_type": "stream",
     "text": [
      "Hourly Frequence\n",
      "DatetimeIndex(['2019-01-01 00:00:00', '2019-01-01 01:00:00',\n",
      "               '2019-01-01 02:00:00', '2019-01-01 03:00:00',\n",
      "               '2019-01-01 04:00:00', '2019-01-01 05:00:00',\n",
      "               '2019-01-01 06:00:00', '2019-01-01 07:00:00',\n",
      "               '2019-01-01 08:00:00', '2019-01-01 09:00:00',\n",
      "               '2019-01-01 10:00:00', '2019-01-01 11:00:00'],\n",
      "              dtype='datetime64[ns]', freq='H')\n",
      "\n",
      "Minutely Frequence\n",
      "DatetimeIndex(['2019-01-01 00:00:00', '2019-01-01 00:01:00',\n",
      "               '2019-01-01 00:02:00', '2019-01-01 00:03:00',\n",
      "               '2019-01-01 00:04:00', '2019-01-01 00:05:00',\n",
      "               '2019-01-01 00:06:00', '2019-01-01 00:07:00',\n",
      "               '2019-01-01 00:08:00', '2019-01-01 00:09:00',\n",
      "               '2019-01-01 00:10:00', '2019-01-01 00:11:00'],\n",
      "              dtype='datetime64[ns]', freq='T')\n",
      "\n",
      "Secondly Frequence\n",
      "DatetimeIndex(['2019-01-01 00:00:00', '2019-01-01 00:00:01',\n",
      "               '2019-01-01 00:00:02', '2019-01-01 00:00:03',\n",
      "               '2019-01-01 00:00:04', '2019-01-01 00:00:05',\n",
      "               '2019-01-01 00:00:06', '2019-01-01 00:00:07',\n",
      "               '2019-01-01 00:00:08', '2019-01-01 00:00:09',\n",
      "               '2019-01-01 00:00:10', '2019-01-01 00:00:11'],\n",
      "              dtype='datetime64[ns]', freq='S')\n"
     ]
    }
   ],
   "source": [
    "\"\"\"Q135.Write a pandas program to generate sequences of fixed-frequency dates and time spans.\"\"\"\n",
    "\n",
    "import pandas as pd\n",
    "dtr = pd.date_range('2019-01-01', periods=12, freq='H')\n",
    "print('Hourly Frequence')\n",
    "print(dtr)\n",
    "\n",
    "dtr = pd.date_range('2019-01-01', periods=12, freq='min')\n",
    "print('\\nMinutely Frequence')\n",
    "print(dtr)\n",
    "\n",
    "dtr = pd.date_range('2019-01-01', periods=12, freq='S')\n",
    "print('\\nSecondly Frequence')\n",
    "print(dtr)"
   ]
  },
  {
   "cell_type": "code",
   "execution_count": 13,
   "metadata": {},
   "outputs": [
    {
     "name": "stdout",
     "output_type": "stream",
     "text": [
      "DatetimeIndex(['2018-01-01 00:00:00+00:00', '2018-01-01 01:00:00+00:00',\n",
      "               '2018-01-01 02:00:00+00:00'],\n",
      "              dtype='datetime64[ns, UTC]', freq='H')\n",
      "\n",
      "From UTC to America/Los_Angeles:\n",
      "DatetimeIndex(['2017-12-31 16:00:00-08:00', '2017-12-31 17:00:00-08:00',\n",
      "               '2017-12-31 18:00:00-08:00'],\n",
      "              dtype='datetime64[ns, America/Los_Angeles]', freq='H')\n"
     ]
    }
   ],
   "source": [
    "\"\"\"Q136.Write a pandas program to manipulate and convert date times with timezone information.\"\"\"\n",
    "import pandas as pd\n",
    "dtt = pd.date_range('2018-01-01', periods=3, freq='H')\n",
    "dtt = dtt.tz_localize('UTC')\n",
    "print(dtt)\n",
    "print(\"\\nFrom UTC to America/Los_Angeles:\")\n",
    "dtt = dtt.tz_convert('America/Los_Angeles')\n",
    "print(dtt)"
   ]
  },
  {
   "cell_type": "code",
   "execution_count": 15,
   "metadata": {},
   "outputs": [
    {
     "data": {
      "text/plain": [
       "<matplotlib.axes._subplots.AxesSubplot at 0x2b26d70b148>"
      ]
     },
     "execution_count": 15,
     "metadata": {},
     "output_type": "execute_result"
    },
    {
     "data": {
      "image/png": "[encoded data removed]",
      "text/plain": [
       "<Figure size 432x288 with 1 Axes>"
      ]
     },
     "metadata": {
      "needs_background": "light"
     },
     "output_type": "display_data"
    }
   ],
   "source": [
    "\"\"\"Q137.Write a pandas program to create the graphical analysis of UFO (unidentified flying object) Sightings year.\"\"\"\n",
    "import pandas as pd\n",
    "import matplotlib.pyplot as plt\n",
    "import seaborn as sns\n",
    "df = pd.read_csv(r'ufo.csv')\n",
    "df['Date_time'] = df['Date_time'].astype('datetime64[ns]')\n",
    "df['Year'] = df['Date_time'].apply(lambda x: \"%d\" % (x.year))\n",
    "result = df.groupby(['Year']).size()\n",
    "result.plot.bar()"
   ]
  },
  {
   "cell_type": "code",
   "execution_count": 16,
   "metadata": {},
   "outputs": [
    {
     "name": "stdout",
     "output_type": "stream",
     "text": [
      "\n",
      "Comparison of the top 10 years in which the UFO was sighted vs the hours of the day:\n",
      "Date_time  0:00  1:00  2:00  4:00  5:00  6:00  9:00  10:00  11:00  13:00  \\\n",
      "Date_time                                                                  \n",
      "1993        1.0   1.0   1.0   NaN   1.0   NaN   NaN    NaN    NaN    1.0   \n",
      "1994        NaN   NaN   NaN   NaN   NaN   NaN   NaN    NaN    NaN    NaN   \n",
      "1995        NaN   NaN   1.0   1.0   NaN   NaN   NaN    NaN    NaN    1.0   \n",
      "1996        NaN   1.0   NaN   NaN   NaN   NaN   NaN    1.0    1.0    1.0   \n",
      "1997        NaN   1.0   NaN   1.0   NaN   NaN   NaN    1.0    NaN    1.0   \n",
      "1998        2.0   1.0   NaN   NaN   1.0   1.0   1.0    NaN    NaN    1.0   \n",
      "1999        2.0   NaN   1.0   NaN   1.0   NaN   NaN    NaN    NaN    NaN   \n",
      "2000        NaN   NaN   1.0   NaN   NaN   NaN   NaN    NaN    NaN    NaN   \n",
      "2001        3.0   1.0   NaN   1.0   NaN   NaN   NaN    NaN    NaN    NaN   \n",
      "2002        NaN   1.0   NaN   NaN   NaN   1.0   NaN    NaN    NaN    NaN   \n",
      "\n",
      "Date_time  14:00  15:00  16:00  17:00  18:00  19:00  20:00  21:00  22:00  \\\n",
      "Date_time                                                                  \n",
      "1993         NaN    1.0    NaN    NaN    NaN    NaN    2.0    NaN    NaN   \n",
      "1994         NaN    NaN    NaN    1.0    3.0    NaN    NaN    4.0    2.0   \n",
      "1995         NaN    NaN    2.0    NaN    NaN    NaN    2.0    1.0    1.0   \n",
      "1996         NaN    1.0    NaN    2.0    1.0    NaN    1.0    NaN    2.0   \n",
      "1997         NaN    NaN    NaN    1.0    1.0    1.0    NaN    4.0    1.0   \n",
      "1998         NaN    NaN    NaN    NaN    NaN    NaN    2.0    2.0    2.0   \n",
      "1999         NaN    1.0    1.0    NaN    NaN    NaN    NaN    2.0    1.0   \n",
      "2000         NaN    NaN    NaN    NaN    NaN    2.0    4.0    2.0    2.0   \n",
      "2001         1.0    NaN    2.0    NaN    NaN    1.0    1.0    5.0    NaN   \n",
      "2002         NaN    2.0    1.0    1.0    3.0    NaN    2.0    NaN    NaN   \n",
      "\n",
      "Date_time  23:00  \n",
      "Date_time         \n",
      "1993         4.0  \n",
      "1994         1.0  \n",
      "1995         3.0  \n",
      "1996         1.0  \n",
      "1997         2.0  \n",
      "1998         NaN  \n",
      "1999         2.0  \n",
      "2000         1.0  \n",
      "2001         NaN  \n",
      "2002         3.0  \n"
     ]
    }
   ],
   "source": [
    "\"\"\"Q138.Write a pandas program to create a comparison of the top 10 years in which the (UFO)was sighted VS each Month\"\"\"\n",
    "import pandas as pd\n",
    "df = pd.read_csv(r'ufo.csv')\n",
    "df['Date_time'] = df['Date_time'].astype('datetime64[ns]')\n",
    "most_sightings_years = df['Date_time'].dt.year.value_counts().head(10)\n",
    "def is_top_years(year):\n",
    "   if year in most_sightings_years.index:\n",
    "       return year\n",
    "hour_v_year = df.pivot_table(columns=df['Date_time'].dt.hour,index=df['Date_time'].dt.year.apply(is_top_years),aggfunc='count',values='city')\n",
    "hour_v_year.columns = hour_v_year.columns.astype(int)\n",
    "hour_v_year.columns = hour_v_year.columns.astype(str) + \":00\"\n",
    "hour_v_year.index = hour_v_year.index.astype(int)\n",
    "print(\"\\nComparison of the top 10 years in which the UFO was sighted vs the hours of the day:\")\n",
    "print(hour_v_year.head(10))"
   ]
  },
  {
   "cell_type": "code",
   "execution_count": 17,
   "metadata": {},
   "outputs": [
    {
     "name": "stdout",
     "output_type": "stream",
     "text": [
      "\n",
      "Heatmap for comparison of the top 10 years in which the UFO was sighted vs each month:\n"
     ]
    },
    {
     "data": {
      "image/png": "[encoded data removed]",
      "text/plain": [
       "<Figure size 720x576 with 2 Axes>"
      ]
     },
     "metadata": {
      "needs_background": "light"
     },
     "output_type": "display_data"
    }
   ],
   "source": [
    "\"\"\"Q139.Write a pandas program to create a heatmap(rectangular data asa colour-encoded matrix) for comparison oftop 10 years in which (UFO )was sighted VSeach Month\"\"\"\n",
    "import pandas as pd\n",
    "import matplotlib.pyplot as plt\n",
    "import seaborn as sns\n",
    "df = pd.read_csv(r'ufo.csv')\n",
    "df['Date_time'] = df['Date_time'].astype('datetime64[ns]')\n",
    "most_sightings_years = df['Date_time'].dt.year.value_counts().head(10)\n",
    "def is_top_years(year):\n",
    "   if year in most_sightings_years.index:\n",
    "       return year\n",
    "month_vs_year = df.pivot_table(columns=df['Date_time'].dt.month,index=df['Date_time'].dt.year.apply(is_top_years),aggfunc='count',values='city')\n",
    "month_vs_year.columns = month_vs_year.columns.astype(int)\n",
    "print(\"\\nHeatmap for comparison of the top 10 years in which the UFO was sighted vs each month:\")\n",
    "plt.figure(figsize=(10,8))\n",
    "ax = sns.heatmap(month_vs_year, vmin=0, vmax=4)\n",
    "ax.set_xlabel('Month').set_size(20)\n",
    "ax.set_ylabel('Year').set_size(20)\n"
   ]
  },
  {
   "cell_type": "code",
   "execution_count": 18,
   "metadata": {},
   "outputs": [
    {
     "name": "stdout",
     "output_type": "stream",
     "text": [
      "\n",
      "Comparison of the top 10 years in which the UFO was sighted vs each month:\n"
     ]
    },
    {
     "name": "stderr",
     "output_type": "stream",
     "text": [
      "C:\\Users\\Amit\\Anaconda3\\lib\\site-packages\\matplotlib\\colors.py:527: RuntimeWarning: invalid value encountered in less\n",
      "  xa[xa < 0] = -1\n"
     ]
    },
    {
     "data": {
      "image/png": "[encoded data removed]",
      "text/plain": [
       "<Figure size 576x576 with 1 Axes>"
      ]
     },
     "metadata": {},
     "output_type": "display_data"
    }
   ],
   "source": [
    "\"\"\"Q140.Write a pandas program to create a Timewheel of Hour VSYearcomparison of the top 10 years in which the (UFO)was sighted\"\"\"\n",
    "import pandas as pd\n",
    "import matplotlib.pyplot as plt\n",
    "import matplotlib as mpl\n",
    "import matplotlib.cm as cm\n",
    "#Source: https://bit.ly/2XDY2XN\n",
    "df = pd.read_csv(r'ufo.csv')\n",
    "df['Date_time'] = df['Date_time'].astype('datetime64[ns]')\n",
    "most_sightings_years = df['Date_time'].dt.year.value_counts().head(10)\n",
    "def is_top_years(year):\n",
    "   if year in most_sightings_years.index:\n",
    "       return year\n",
    "month_vs_year = df.pivot_table(columns=df['Date_time'].dt.month,index=df['Date_time'].dt.year.apply(is_top_years),aggfunc='count',values='city')\n",
    "month_vs_year.index = month_vs_year.index.astype(int)\n",
    "month_vs_year.columns = month_vs_year.columns.astype(int)\n",
    "print(\"\\nComparison of the top 10 years in which the UFO was sighted vs each month:\")\n",
    "def pie_heatmap(table, cmap='coolwarm_r', vmin=None, vmax=None,inner_r=0.25, pie_args={}):\n",
    "   n, m = table.shape\n",
    "   vmin= table.min().min() if vmin is None else vmin\n",
    "   vmax= table.max().max() if vmax is None else vmax\n",
    "\n",
    "   centre_circle = plt.Circle((0,0),inner_r,edgecolor='black',facecolor='white',fill=True,linewidth=0.25)\n",
    "   plt.gcf().gca().add_artist(centre_circle)\n",
    "   norm = mpl.colors.Normalize(vmin=vmin, vmax=vmax)\n",
    "   cmapper = cm.ScalarMappable(norm=norm, cmap=cmap)\n",
    "\n",
    "   for i, (row_name, row) in enumerate(table.iterrows()):\n",
    "       labels = None if i > 0 else table.columns\n",
    "       wedges = plt.pie([1] * m,radius=inner_r+float(n-i)/n, colors=[cmapper.to_rgba(x) for x in row.values],\n",
    "           labels=labels, startangle=90, counterclock=False, wedgeprops={'linewidth':-1}, **pie_args)\n",
    "       plt.setp(wedges[0], edgecolor='grey',linewidth=1.5)\n",
    "       wedges = plt.pie([1], radius=inner_r+float(n-i-1)/n, colors=['w'], labels=[row_name], startangle=-90, wedgeprops={'linewidth':0})\n",
    "       plt.setp(wedges[0], edgecolor='grey',linewidth=1.5)\n",
    "plt.figure(figsize=(8,8))\n",
    "plt.title(\"Timewheel of Hour Vs Year\",y=1.08,fontsize=30)\n",
    "pie_heatmap(month_vs_year, vmin=-20,vmax=80,inner_r=0.2)"
   ]
  },
  {
   "cell_type": "code",
   "execution_count": 19,
   "metadata": {},
   "outputs": [
    {
     "data": {
      "text/plain": [
       "[<matplotlib.lines.Line2D at 0x2b26eda6988>]"
      ]
     },
     "execution_count": 19,
     "metadata": {},
     "output_type": "execute_result"
    },
    {
     "data": {
      "image/png": "[encoded data removed]",
      "text/plain": [
       "<Figure size 432x288 with 1 Axes>"
      ]
     },
     "metadata": {
      "needs_background": "light"
     },
     "output_type": "display_data"
    }
   ],
   "source": [
    "\"\"\"Q141. Write a python program to draw the line using given axis values with the suitable label in the x-axis, y-axis,and a title.\"\"\"\n",
    "import matplotlib.pyplot as plt\n",
    "x = [1,2,3]\n",
    "y = [2,4,1]\n",
    "plt.xlabel('x-axis')\n",
    "plt.ylabel('y-axis')\n",
    "plt.title('sample graph')\n",
    "plt.plot(x,y)"
   ]
  },
  {
   "cell_type": "code",
   "execution_count": 20,
   "metadata": {},
   "outputs": [
    {
     "data": {
      "image/png": "[encoded data removed]",
      "text/plain": [
       "<Figure size 432x288 with 1 Axes>"
      ]
     },
     "metadata": {
      "needs_background": "light"
     },
     "output_type": "display_data"
    }
   ],
   "source": [
    "\"\"\"Q142. Write a python program to draw the line charts of the financial data of the Alphabet Inc., between October.\"\"\"\n",
    "import matplotlib.pyplot as plt\n",
    "import pandas as pd\n",
    "df = pd.read_csv('fdata.csv', sep=',', parse_dates=True, index_col=0)\n",
    "df.plot()\n",
    "plt.show()"
   ]
  },
  {
   "cell_type": "code",
   "execution_count": 21,
   "metadata": {},
   "outputs": [
    {
     "data": {
      "image/png": "[encoded data removed]",
      "text/plain": [
       "<Figure size 432x288 with 1 Axes>"
      ]
     },
     "metadata": {
      "needs_background": "light"
     },
     "output_type": "display_data"
    }
   ],
   "source": [
    "\"\"\"Q143. Write a Python program to plot two or more lines on same plot with the suitable legends of eachline.\"\"\"\n",
    "import matplotlib.pyplot as plt\n",
    "x1 = [10,20,30]\n",
    "y1 = [20,40,10]\n",
    "plt.plot(x1, y1, label='line 1')\n",
    "\n",
    "x2 = [10,20,30]\n",
    "y2 = [40,10,30]\n",
    "plt.plot(x2, y2, label = 'line 2')\n",
    "plt.xlabel('x-axis')\n",
    "plt.title('Two or more lines on same plot with suitable legends')\n",
    "plt.legend()\n",
    "plt.show()"
   ]
  },
  {
   "cell_type": "code",
   "execution_count": 22,
   "metadata": {},
   "outputs": [
    {
     "data": {
      "image/png": "[encoded data removed]",
      "text/plain": [
       "<Figure size 432x288 with 1 Axes>"
      ]
     },
     "metadata": {
      "needs_background": "light"
     },
     "output_type": "display_data"
    }
   ],
   "source": [
    "\"\"\"Q144.Write a python programming to display a bar chart of the popularity of programming languages\"\"\"\n",
    "\n",
    "import matplotlib.pyplot as plt\n",
    "x = ['Java','Python','PHP',\"JavaScript\",'C#','C++']\n",
    "popularity = [22.2,17.6,8.8,8,7.7,6.7]\n",
    "\n",
    "x_pos = [i for i, _ in enumerate(x)]\n",
    "plt.bar(x_pos, popularity, color='blue')\n",
    "plt.xlabel('Lauguages')\n",
    "plt.ylabel('Popularity')\n",
    "plt.title('Popularity of Programming Language\\n')\n",
    "plt.xticks(x_pos, x)\n",
    "plt.minorticks_on()\n",
    "plt.grid(which='major', linestyle='-', linewidth='0.5', color='red')\n",
    "plt.grid(which='minor', linestyle=':', linewidth='0.5', color='red')\n",
    "plt.show()"
   ]
  },
  {
   "cell_type": "code",
   "execution_count": 23,
   "metadata": {},
   "outputs": [
    {
     "data": {
      "image/png": "[encoded data removed]",
      "text/plain": [
       "<Figure size 432x288 with 1 Axes>"
      ]
     },
     "metadata": {
      "needs_background": "light"
     },
     "output_type": "display_data"
    }
   ],
   "source": [
    "\"\"\"Q145.Write a python programming to display a horizontal bar chart of the popularity of programming languages.¶\"\"\"\n",
    "\n",
    "import matplotlib.pyplot as plt\n",
    "x = ['Java','Python','PHP',\"JavaScript\",'C#','C++']\n",
    "popularity = [22.2,17.6,8.8,8,7.7,6.7]\n",
    "\n",
    "x_pos = [i for i, _ in enumerate(x)]\n",
    "plt.barh(x_pos, popularity, color='blue')\n",
    "plt.ylabel('Lauguages')\n",
    "plt.xlabel('Popularity')\n",
    "plt.title('Popularity of Programming Language\\n')\n",
    "plt.yticks(x_pos, x)\n",
    "plt.minorticks_on()\n",
    "plt.grid(which='major', linestyle='-', linewidth='0.5', color='red')\n",
    "plt.grid(which='minor', linestyle=':', linewidth='0.5', color='red')\n",
    "plt.show()"
   ]
  },
  {
   "cell_type": "code",
   "execution_count": 24,
   "metadata": {},
   "outputs": [
    {
     "data": {
      "image/png": "[encoded data removed]",
      "text/plain": [
       "<Figure size 432x288 with 1 Axes>"
      ]
     },
     "metadata": {
      "needs_background": "light"
     },
     "output_type": "display_data"
    }
   ],
   "source": [
    "\"\"\"Q146.Write a python programming to display a bar chart of the Popularity of programming languages. Increase bottom margin\"\"\"\n",
    "\n",
    "import matplotlib.pyplot as plt\n",
    "x = ['Java', 'Python', 'PHP', 'JavaScript', 'C#', 'C++']\n",
    "popularity = [22.2, 17.6, 8.8, 8, 7.7, 6.7]\n",
    "x_pos = [i for i, _ in enumerate(x)]\n",
    "plt.bar(x_pos, popularity, color=(0.4, 0.6, 0.8, 1.0))\n",
    "plt.xlabel(\"Languages\")\n",
    "plt.ylabel(\"Popularity\")\n",
    "plt.title(\"PopularitY of Programming Language\\n\" + \"Worldwide, Oct 2017 compared to a year ago\")\n",
    "# Rotation of the bars names\n",
    "plt.xticks(x_pos, x, rotation=90)\n",
    "# Custom the subplot layout\n",
    "plt.subplots_adjust(bottom=0.4, top=.8)\n",
    "# Turn on the grid\n",
    "plt.minorticks_on()\n",
    "plt.grid(which='major', linestyle='-', linewidth='0.5', color='red')\n",
    "# Customize the minor grid\n",
    "plt.grid(which='minor', linestyle=':', linewidth='0.5', color='black')\n",
    "plt.show()\n"
   ]
  },
  {
   "cell_type": "code",
   "execution_count": 25,
   "metadata": {},
   "outputs": [
    {
     "data": {
      "image/png": "[encoded data removed]",
      "text/plain": [
       "<Figure size 432x288 with 1 Axes>"
      ]
     },
     "metadata": {
      "needs_background": "light"
     },
     "output_type": "display_data"
    }
   ],
   "source": [
    "\"\"\"Q147.Write a python program to create the bar plot from a DataFrame.\"\"\"\n",
    "\n",
    "import pandas as pd\n",
    "import matplotlib.pyplot as plt\n",
    "import numpy as np\n",
    "\n",
    "a=np.array([[4,8,5,7,6],[2,3,4,2,6],[4,7,4,7,8],[2,6,4,8,6],[2,4,3,3,2]])\n",
    "df=pd.DataFrame(a, columns=['a','b','c','d','e'], index=[2,4,6,8,10])\n",
    "\n",
    "df.plot(kind='bar')\n",
    "plt.minorticks_on()\n",
    "plt.grid(which='major', linestyle='-', linewidth='0.5', color='green')\n",
    "plt.grid(which='minor', linestyle=':', linewidth='0.5', color='black')\n",
    "plt.show()"
   ]
  },
  {
   "cell_type": "code",
   "execution_count": 26,
   "metadata": {},
   "outputs": [
    {
     "data": {
      "image/png": "[encoded data removed]",
      "text/plain": [
       "<Figure size 432x288 with 1 Axes>"
      ]
     },
     "metadata": {
      "needs_background": "light"
     },
     "output_type": "display_data"
    }
   ],
   "source": [
    "\"\"\"Q148.Write a python program to draw thescatter plot comparing two subject marks of Mathematics and Science. Use marks of 10 students\"\"\"\n",
    "\n",
    "import matplotlib.pyplot as plt\n",
    "import pandas as pd\n",
    "\n",
    "math_marks = [88, 92, 80, 89, 100, 80, 60, 100, 80, 34]\n",
    "science_marks = [35,79,79,48,100,88,32,45,20,30]\n",
    "marks_range=[10,20,30,40,50,60,70,80,90,100]\n",
    "plt.scatter(marks_range, math_marks, label='Maths marks', color='r')\n",
    "plt.scatter(marks_range, science_marks, label='Science marks', color='g')\n",
    "plt.title('Scatter plot')\n",
    "plt.xlabel('Marks Range')\n",
    "plt.ylabel('Marks Scored')\n",
    "plt.legend()\n",
    "plt.show()"
   ]
  },
  {
   "cell_type": "code",
   "execution_count": 27,
   "metadata": {},
   "outputs": [
    {
     "data": {
      "image/png": "[encoded data removed]",
      "text/plain": [
       "<Figure size 432x288 with 1 Axes>"
      ]
     },
     "metadata": {
      "needs_background": "light"
     },
     "output_type": "display_data"
    }
   ],
   "source": [
    "\"\"\"Q149.Write a python program to draw thescatter plot for three different groups comparing weights and heights.\"\"\"\n",
    "import matplotlib.pyplot as plt\n",
    "import numpy as np \n",
    "weight1=[67,57.2,59.6,59.64,55.8,61.2,60.45,61,56.23,56]\n",
    "height1=[101.7,197.6,98.3,125.1,113.7,157.7,136,148.9,125.3,114.9] \n",
    "weight2=[61.9,64,62.1,64.2,62.3,65.4,62.4,61.4,62.5,63.6]\n",
    "height2=[152.8,155.3,135.1,125.2,151.3,135,182.2,195.9,165.1,125.1] \n",
    "weight3=[68.2,67.2,68.4,68.7,71,71.3,70.8,70,71.1,71.7]\n",
    "height3=[165.8,170.9,192.8,135.4,161.4,136.1,167.1,235.1,181.1,177.3]\n",
    "weight=np.concatenate((weight1,weight2,weight3))\n",
    "height=np.concatenate((height1,height2,height3))\n",
    "plt.scatter(weight, height, marker='*', c='red' )\n",
    "plt.xlabel('weight', fontsize=16)\n",
    "plt.ylabel('height', fontsize=16)\n",
    "plt.title('Group wise Weight vs Height scatter plot',fontsize=20)\n",
    "plt.show()"
   ]
  },
  {
   "cell_type": "code",
   "execution_count": 28,
   "metadata": {},
   "outputs": [
    {
     "data": {
      "image/png": "[encoded data removed]",
      "text/plain": [
       "<Figure size 432x288 with 1 Axes>"
      ]
     },
     "metadata": {
      "needs_background": "light"
     },
     "output_type": "display_data"
    }
   ],
   "source": [
    "\"\"\"Q150.Write a python program to draw a scatter plot to find sea-level rise in past 100 years.\"\"\"\n",
    "import matplotlib.pyplot as plt\n",
    "import pandas as pd\n",
    "data = pd.read_csv('data.csv')\n",
    "year = data['year']\n",
    "sea_levels = data['CSIRO_sea_level']\n",
    "plt.scatter(year, sea_levels, edgecolors='g')\n",
    "plt.xlabel('Year')\n",
    "plt.ylabel('Sea Level(inches)')\n",
    "plt.title('Rise in Sealevel')\n",
    "plt.show()"
   ]
  },
  {
   "cell_type": "code",
   "execution_count": null,
   "metadata": {},
   "outputs": [],
   "source": []
  }
 ],
 "metadata": {
  "kernelspec": {
   "display_name": "Python 3",
   "language": "python",
   "name": "python3"
  },
  "language_info": {
   "codemirror_mode": {
    "name": "ipython",
    "version": 3
   },
   "file_extension": ".py",
   "mimetype": "text/x-python",
   "name": "python",
   "nbconvert_exporter": "python",
   "pygments_lexer": "ipython3",
   "version": "3.7.4"
  }
 },
 "nbformat": 4,
 "nbformat_minor": 2
}
