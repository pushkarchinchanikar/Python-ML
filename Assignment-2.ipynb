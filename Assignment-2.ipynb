{
 "cells": [
  {
   "cell_type": "code",
   "execution_count": null,
   "metadata": {},
   "outputs": [],
   "source": []
  },
  {
   "cell_type": "code",
   "execution_count": 1,
   "metadata": {},
   "outputs": [
    {
     "data": {
      "text/plain": [
       "102"
      ]
     },
     "execution_count": 1,
     "metadata": {},
     "output_type": "execute_result"
    }
   ],
   "source": [
    "\"\"\"Myreduce function\"\"\"\n",
    "def anyfunction(x1,x2):\n",
    "    return x1+x2\n",
    "\n",
    "k=[1,2,3,6,78,5,7]\n",
    "\n",
    "def myreduce(anyfunction,k):\n",
    "    result=k[0]\n",
    "    for i in k[1:]:\n",
    "        result=anyfunction(result,i)\n",
    "    return result\n",
    "\n",
    "myreduce(anyfunction,k)\n"
   ]
  },
  {
   "cell_type": "code",
   "execution_count": 2,
   "metadata": {},
   "outputs": [
    {
     "data": {
      "text/plain": [
       "[4, 4, 6]"
      ]
     },
     "execution_count": 2,
     "metadata": {},
     "output_type": "execute_result"
    }
   ],
   "source": [
    "\"\"\"Myfilter function\"\"\"\n",
    "def filter_even(num):\n",
    "    if (num % 2) == 0:\n",
    "        return True\n",
    "    else:\n",
    "        return False\n",
    "    \n",
    "k=[1,3,4,5,7,4,3,6]\n",
    "m=[]\n",
    "def myfilter(func,kp):\n",
    "    for i in kp:\n",
    "        if func(i) == True:\n",
    "            m.append(i)\n",
    "\n",
    "myfilter(filter_even,k)\n",
    "m"
   ]
  },
  {
   "cell_type": "code",
   "execution_count": 4,
   "metadata": {},
   "outputs": [
    {
     "name": "stdout",
     "output_type": "stream",
     "text": [
      "['A', 'C', 'A', 'D', 'G', 'I', 'L', 'D']\n"
     ]
    }
   ],
   "source": [
    "\"\"\"List comprehentions\"\"\"\n",
    "text = \"ACADGILD\"\n",
    "alphabet_list = [ i for i in text ]\n",
    "print(alphabet_list)\n"
   ]
  },
  {
   "cell_type": "code",
   "execution_count": 9,
   "metadata": {},
   "outputs": [
    {
     "data": {
      "text/plain": [
       "['x', 'xx', 'xxx', 'xxxx', 'y', 'yy', 'yyy', 'yyyy', 'z', 'zz', 'zzz', 'zzzz']"
      ]
     },
     "execution_count": 9,
     "metadata": {},
     "output_type": "execute_result"
    }
   ],
   "source": [
    "\"\"\"List comprehentions\"\"\"\n",
    "input_list = ['x','y','z']\n",
    "new_list2 = [i*num for num in range(1,5) for i in input_list]\n",
    "new_list2\n",
    "new_list3 = [i*num for i in input_list for num in range(1,5)]\n",
    "new_list3"
   ]
  },
  {
   "cell_type": "code",
   "execution_count": 24,
   "metadata": {
    "scrolled": true
   },
   "outputs": [
    {
     "data": {
      "text/plain": [
       "[[2], [3], [4], [3], [4], [5], [4], [5], [6]]"
      ]
     },
     "execution_count": 24,
     "metadata": {},
     "output_type": "execute_result"
    }
   ],
   "source": [
    "\"\"\"List comprehentions\"\"\"\n",
    "input4 = '234345456'\n",
    "new_list4 = [[int(i)] for i in input4]\n",
    "new_list4\n"
   ]
  },
  {
   "cell_type": "code",
   "execution_count": 28,
   "metadata": {},
   "outputs": [
    {
     "data": {
      "text/plain": [
       "[[2, 3, 4, 5], [3, 4, 5, 6], [4, 5, 6, 7]]"
      ]
     },
     "execution_count": 28,
     "metadata": {},
     "output_type": "execute_result"
    }
   ],
   "source": [
    "\"\"\"List comprehentions\"\"\"\n",
    "input_list5 = [2,3,4,5]\n",
    "new_list5 = [[item+num for item in input_list5] for num in range(0,3)]\n",
    "new_list5"
   ]
  },
  {
   "cell_type": "code",
   "execution_count": 29,
   "metadata": {},
   "outputs": [
    {
     "data": {
      "text/plain": [
       "[(1, 1), (1, 2), (1, 3), (2, 1), (2, 2), (2, 3), (3, 1), (3, 2), (3, 3)]"
      ]
     },
     "execution_count": 29,
     "metadata": {},
     "output_type": "execute_result"
    }
   ],
   "source": [
    "\"\"\"List comprehentions\"\"\"\n",
    "input_list6 = [1,2,3]\n",
    "r = [(a,b) for a in input_list6 for b in input_list6]\n",
    "r"
   ]
  },
  {
   "cell_type": "code",
   "execution_count": 9,
   "metadata": {},
   "outputs": [
    {
     "data": {
      "text/plain": [
       "'uhdguhufduidghi'"
      ]
     },
     "execution_count": 9,
     "metadata": {},
     "output_type": "execute_result"
    }
   ],
   "source": [
    "\"\"\"Longest Word Program\"\"\"\n",
    "p = ['abc','cd','fdhdfh','fdhdfhdfh','uhdguhufduidghi']\n",
    "def longestword(p):\n",
    "    longest_word= \"\"\n",
    "    for i in p:\n",
    "        if len(i) > len(longest_word):\n",
    "            longest_word=i\n",
    "    return longest_word\n",
    "longestword(p)\n",
    "\n",
    "        "
   ]
  },
  {
   "cell_type": "code",
   "execution_count": 61,
   "metadata": {},
   "outputs": [
    {
     "name": "stdout",
     "output_type": "stream",
     "text": [
      "Please enter side a : 5\n",
      "Please enter side b : 8\n",
      "Please enter side c : 9\n"
     ]
    },
    {
     "data": {
      "text/plain": [
       "19.8997487421324"
      ]
     },
     "execution_count": 61,
     "metadata": {},
     "output_type": "execute_result"
    }
   ],
   "source": [
    "\"\"\"Area of Triangle\"\"\"\n",
    "class Parent:\n",
    "    x=0\n",
    "    y=0\n",
    "    z=0\n",
    "    def get_sides(self):\n",
    "        self.x = int(input(\"Please enter side a : \"))\n",
    "        self.y = int(input(\"Please enter side b : \"))\n",
    "        self.z = int(input(\"Please enter side c : \"))\n",
    "\n",
    "class Child(Parent):\n",
    "    def cal_area(self):\n",
    "        s=(self.x + self.y + self.z)/2.0\n",
    "        area = (s*(s-self.x)*(s-self.y)*(s-self.z)) ** 0.5\n",
    "        return area\n",
    "        \n",
    "os = Child()\n",
    "os.get_sides()\n",
    "os.cal_area()\n"
   ]
  },
  {
   "cell_type": "code",
   "execution_count": 63,
   "metadata": {},
   "outputs": [
    {
     "data": {
      "text/plain": [
       "['hdsugdu', 'dfhfdhhd']"
      ]
     },
     "execution_count": 63,
     "metadata": {},
     "output_type": "execute_result"
    }
   ],
   "source": [
    "\"\"\"Filter long words\"\"\"\n",
    "l=['abcd','dgdh','hdsugdu','dfhfdhhd']\n",
    "def filter_long_words(l,o):\n",
    "    filtered_list = []\n",
    "    for i in l:\n",
    "        if len(i)>o:\n",
    "            filtered_list.append(i)\n",
    "    return filtered_list\n",
    "\n",
    "filter_long_words(l,5)"
   ]
  },
  {
   "cell_type": "code",
   "execution_count": 65,
   "metadata": {},
   "outputs": [
    {
     "data": {
      "text/plain": [
       "[5, 7, 10]"
      ]
     },
     "execution_count": 65,
     "metadata": {},
     "output_type": "execute_result"
    }
   ],
   "source": [
    "\"\"\"Filter length of list\"\"\"\n",
    "list7 = ['asfas','asgasga','asgdhfhsed']\n",
    "def lenofwords(l):\n",
    "    filtered_list_7 = []\n",
    "    for i in l:\n",
    "        filtered_list_7.append(len(i))\n",
    "    return filtered_list_7\n",
    "lenofwords(list7)"
   ]
  },
  {
   "cell_type": "code",
   "execution_count": 75,
   "metadata": {},
   "outputs": [
    {
     "data": {
      "text/plain": [
       "False"
      ]
     },
     "execution_count": 75,
     "metadata": {},
     "output_type": "execute_result"
    }
   ],
   "source": [
    "\"\"\"Vowel Program\"\"\"\n",
    "def isvowel(v):\n",
    "    ch = v.capitalize()\n",
    "    if ch==\"A\" or ch==\"E\" or ch==\"I\" or ch==\"O\" or ch==\"U\":\n",
    "        return True\n",
    "    else:\n",
    "        return False\n",
    "\n",
    "isvowel('j')"
   ]
  },
  {
   "cell_type": "code",
   "execution_count": null,
   "metadata": {},
   "outputs": [],
   "source": []
  }
 ],
 "metadata": {
  "kernelspec": {
   "display_name": "Python 3",
   "language": "python",
   "name": "python3"
  },
  "language_info": {
   "codemirror_mode": {
    "name": "ipython",
    "version": 3
   },
   "file_extension": ".py",
   "mimetype": "text/x-python",
   "name": "python",
   "nbconvert_exporter": "python",
   "pygments_lexer": "ipython3",
   "version": "3.7.4"
  }
 },
 "nbformat": 4,
 "nbformat_minor": 2
}
